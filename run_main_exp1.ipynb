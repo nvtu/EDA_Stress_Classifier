{
 "cells": [
  {
   "cell_type": "code",
   "execution_count": 1,
   "source": [
    "import os\r\n",
    "import os.path as osp\r\n",
    "import numpy as np\r\n",
    "import configparser\r\n",
    "from classifiers import BinaryClassifier\r\n",
    "import pandas as pd\r\n",
    "from sklearn.model_selection import LeaveOneGroupOut\r\n",
    "from tqdm import tqdm\r\n",
    "from icecream import ic"
   ],
   "outputs": [],
   "metadata": {}
  },
  {
   "cell_type": "markdown",
   "source": [
    "# Load eda statistical features and ground-truth from datasets"
   ],
   "metadata": {}
  },
  {
   "cell_type": "code",
   "execution_count": 2,
   "source": [
    "def get_dataset_folder_path(dataset_name: str) -> str:\r\n",
    "    # Read dataset path from config.ini file\r\n",
    "    config_path = osp.join(os.getcwd(), 'config.ini')\r\n",
    "    parser = configparser.ConfigParser()\r\n",
    "    parser.read(config_path)\r\n",
    "    dataset_folder_path = None\r\n",
    "    if dataset_name == 'AffectiveROAD':\r\n",
    "        dataset_folder_path = parser['DATA_PATH']['affectiveROAD_dataset_path']\r\n",
    "    elif dataset_name in ['WESAD_CHEST', 'WESAD_WRIST', 'RESAMPLED_WESAD_CHEST']:\r\n",
    "        dataset_folder_path = parser['DATA_PATH']['wesad_dataset_path']\r\n",
    "    elif dataset_name == 'DCU_NVT_EXP1':\r\n",
    "        dataset_folder_path = parser['DATA_PATH']['dcu_nvt_dataset_path']\r\n",
    "    return dataset_folder_path"
   ],
   "outputs": [],
   "metadata": {}
  },
  {
   "cell_type": "code",
   "execution_count": 3,
   "source": [
    "def load_dataset(dataset_name: str):\r\n",
    "    dataset = None\r\n",
    "    ground_truth = None\r\n",
    "    # Initialize dataset folder path\r\n",
    "    dataset_folder_path = get_dataset_folder_path(dataset_name)\r\n",
    "    # Initialize dataset file path\r\n",
    "    dataset_file_path = osp.join(dataset_folder_path, f'{dataset_name}_stats_feats.npy')\r\n",
    "    # Initialize ground-truth file path\r\n",
    "    ground_truth_file_path = osp.join(dataset_folder_path, f'{dataset_name}_ground_truth.npy')\r\n",
    "    # Initialize group file path\r\n",
    "    group_file_path = osp.join(dataset_folder_path, f'{dataset_name}_groups.npy')\r\n",
    "\r\n",
    "    # Load dataset, ground-truth, and groups\r\n",
    "    dataset = np.load(dataset_file_path) # Load dataset\r\n",
    "    ground_truth = np.load(ground_truth_file_path) # Load corresponding ground-truth\r\n",
    "    groups = np.load(group_file_path) # Load corresponding user_id labels\r\n",
    "    return dataset, ground_truth, groups"
   ],
   "outputs": [],
   "metadata": {}
  },
  {
   "cell_type": "markdown",
   "source": [
    "# Define functions to get output folder path and save results"
   ],
   "metadata": {}
  },
  {
   "cell_type": "code",
   "execution_count": 4,
   "source": [
    "def get_output_folder_path(dataset_name: str) -> str:\r\n",
    "    config_path = osp.join(os.getcwd(), 'config.ini')\r\n",
    "    parser = configparser.ConfigParser()\r\n",
    "    parser.read(config_path)\r\n",
    "    # Get output_folder_path for a specific dataset\r\n",
    "    output_folder_path = osp.join(parser['DATA_PATH']['result_path'], dataset_name)\r\n",
    "    # Create the output folder if it does not exist\r\n",
    "    if not osp.exists(output_folder_path):\r\n",
    "        os.makedirs(output_folder_path)\r\n",
    "    return output_folder_path"
   ],
   "outputs": [],
   "metadata": {}
  },
  {
   "cell_type": "code",
   "execution_count": 5,
   "source": [
    "def dump_result_to_csv(results, dataset_name: str, detection_strategy: str, detector_type: str):\r\n",
    "    output_folder_path = osp.join(get_output_folder_path(dataset_name), detector_type)\r\n",
    "    # Create the folder if it does not exist\r\n",
    "    if not osp.exists(output_folder_path):\r\n",
    "        os.makedirs(output_folder_path)\r\n",
    "    # Get output_file_path\r\n",
    "    output_file_path = osp.join(output_folder_path, f'{dataset_name}-{detection_strategy}.csv')\r\n",
    "    # Generate DataFrame to save to csv format\r\n",
    "    df = pd.DataFrame.from_dict(results)\r\n",
    "    df.to_csv(output_file_path, index=False)    "
   ],
   "outputs": [],
   "metadata": {}
  },
  {
   "cell_type": "markdown",
   "source": [
    "## Load dataset and ground-truth as well as dividing groups"
   ],
   "metadata": {}
  },
  {
   "cell_type": "code",
   "execution_count": 6,
   "source": [
    "# -- Uncomment the dataset that you wanna load -- #\r\n",
    "dataset_name = 'AffectiveROAD'\r\n",
    "# dataset_name = 'WESAD_CHEST'\r\n",
    "# dataset_name = 'WESAD_WRIST'\r\n",
    "# dataset_name = 'DCU_NVT_EXP1'"
   ],
   "outputs": [],
   "metadata": {}
  },
  {
   "cell_type": "code",
   "execution_count": 7,
   "source": [
    "dataset, ground_truth, groups = load_dataset(dataset_name) # Load dataset and ground-truths"
   ],
   "outputs": [],
   "metadata": {}
  },
  {
   "cell_type": "markdown",
   "source": [
    "# Define stress detection strategies"
   ],
   "metadata": {}
  },
  {
   "cell_type": "code",
   "execution_count": 8,
   "source": [
    "# -- Uncomment the detection strategy that you wanna use to detect -- #\r\n",
    "detection_strategy = 'logistic_regression'\r\n",
    "detection_strategy = 'random_forest'\r\n",
    "# detection_strategy = 'svm'\r\n",
    "# detection_strategy = 'mlp'\r\n",
    "# detection_strategy = 'knn'"
   ],
   "outputs": [],
   "metadata": {}
  },
  {
   "cell_type": "code",
   "execution_count": 9,
   "source": [
    "SCORING = 'balanced_accuracy'"
   ],
   "outputs": [],
   "metadata": {}
  },
  {
   "cell_type": "markdown",
   "source": [
    "# Build General Cross-population Stress Detector"
   ],
   "metadata": {}
  },
  {
   "cell_type": "code",
   "execution_count": 10,
   "source": [
    "# clf = BinaryClassifier(dataset, ground_truth, detection_strategy, logo_validation = True, groups = groups, scoring = SCORING)\r\n",
    "# results = clf.exec_classifier() # Build classifier and return prediction results"
   ],
   "outputs": [],
   "metadata": {
    "tags": []
   }
  },
  {
   "cell_type": "code",
   "execution_count": 11,
   "source": [
    "# Save results\r\n",
    "# detector_type = 'General'\r\n",
    "# dump_result_to_csv(results, dataset_name, detection_strategy, detector_type)"
   ],
   "outputs": [],
   "metadata": {}
  },
  {
   "cell_type": "markdown",
   "source": [
    "# Build Person-specific Stress Detector"
   ],
   "metadata": {}
  },
  {
   "cell_type": "code",
   "execution_count": 12,
   "source": [
    "logo = LeaveOneGroupOut()\r\n",
    "balanced_accs = []\r\n",
    "test_groups = []\r\n",
    "for _, test_index in tqdm(logo.split(dataset, ground_truth, groups)):\r\n",
    "    user_dataset, user_ground_truth = dataset[test_index], ground_truth[test_index] # Get personal statistical features and ground-truths of a user\r\n",
    "\r\n",
    "    # Re-initialize classifier when iterating a new user\r\n",
    "    clf = BinaryClassifier(user_dataset, user_ground_truth, detection_strategy, cross_validation = True, scoring = SCORING)\r\n",
    "    balanced_acc = clf.exec_classifier()\r\n",
    "\r\n",
    "    if balanced_acc == -1:\r\n",
    "        print(groups[test_index][0])\r\n",
    "        continue # Ignore this user as it only contains one class\r\n",
    "\r\n",
    "    # Save user_id and his/her corresponding predicted results\r\n",
    "    balanced_accs.append(balanced_acc)\r\n",
    "    test_groups.append(groups[test_index][0])\r\n",
    "results = { 'groups': test_groups, 'balanced_accurary_score': balanced_accs }"
   ],
   "outputs": [
    {
     "output_type": "stream",
     "name": "stderr",
     "text": [
      "0it [00:00, ?it/s]"
     ]
    },
    {
     "output_type": "stream",
     "name": "stdout",
     "text": [
      "random_forest best grid search score: 1.0 with params - {'class_weight': None, 'min_samples_leaf': 1, 'min_samples_split': 2, 'n_estimators': 500}\n"
     ]
    },
    {
     "output_type": "stream",
     "name": "stderr",
     "text": [
      "1it [00:12, 12.58s/it]"
     ]
    },
    {
     "output_type": "stream",
     "name": "stdout",
     "text": [
      "random_forest best grid search score: 1.0 with params - {'class_weight': None, 'min_samples_leaf': 1, 'min_samples_split': 2, 'n_estimators': 500}\n"
     ]
    },
    {
     "output_type": "stream",
     "name": "stderr",
     "text": [
      "2it [00:25, 12.85s/it]"
     ]
    },
    {
     "output_type": "stream",
     "name": "stdout",
     "text": [
      "random_forest best grid search score: 1.0 with params - {'class_weight': None, 'min_samples_leaf': 1, 'min_samples_split': 2, 'n_estimators': 500}\n"
     ]
    },
    {
     "output_type": "stream",
     "name": "stderr",
     "text": [
      "3it [00:38, 13.02s/it]"
     ]
    },
    {
     "output_type": "stream",
     "name": "stdout",
     "text": [
      "random_forest best grid search score: 1.0 with params - {'class_weight': None, 'min_samples_leaf': 1, 'min_samples_split': 2, 'n_estimators': 500}\n"
     ]
    },
    {
     "output_type": "stream",
     "name": "stderr",
     "text": [
      "4it [00:51, 12.88s/it]"
     ]
    },
    {
     "output_type": "stream",
     "name": "stdout",
     "text": [
      "random_forest best grid search score: 1.0 with params - {'class_weight': None, 'min_samples_leaf': 1, 'min_samples_split': 2, 'n_estimators': 500}\n"
     ]
    },
    {
     "output_type": "stream",
     "name": "stderr",
     "text": [
      "5it [01:04, 12.89s/it]"
     ]
    },
    {
     "output_type": "stream",
     "name": "stdout",
     "text": [
      "random_forest best grid search score: 1.0 with params - {'class_weight': None, 'min_samples_leaf': 1, 'min_samples_split': 2, 'n_estimators': 500}\n"
     ]
    },
    {
     "output_type": "stream",
     "name": "stderr",
     "text": [
      "6it [01:17, 12.96s/it]"
     ]
    },
    {
     "output_type": "stream",
     "name": "stdout",
     "text": [
      "random_forest best grid search score: 1.0 with params - {'class_weight': None, 'min_samples_leaf': 1, 'min_samples_split': 2, 'n_estimators': 500}\n"
     ]
    },
    {
     "output_type": "stream",
     "name": "stderr",
     "text": [
      "7it [01:31, 13.23s/it]"
     ]
    },
    {
     "output_type": "stream",
     "name": "stdout",
     "text": [
      "random_forest best grid search score: 1.0 with params - {'class_weight': None, 'min_samples_leaf': 1, 'min_samples_split': 2, 'n_estimators': 500}\n"
     ]
    },
    {
     "output_type": "stream",
     "name": "stderr",
     "text": [
      "8it [01:44, 13.17s/it]"
     ]
    },
    {
     "output_type": "stream",
     "name": "stdout",
     "text": [
      "random_forest best grid search score: 1.0 with params - {'class_weight': None, 'min_samples_leaf': 1, 'min_samples_split': 2, 'n_estimators': 500}\n"
     ]
    },
    {
     "output_type": "stream",
     "name": "stderr",
     "text": [
      "9it [01:57, 13.18s/it]"
     ]
    },
    {
     "output_type": "stream",
     "name": "stdout",
     "text": [
      "random_forest best grid search score: 1.0 with params - {'class_weight': None, 'min_samples_leaf': 1, 'min_samples_split': 2, 'n_estimators': 500}\n"
     ]
    },
    {
     "output_type": "stream",
     "name": "stderr",
     "text": [
      "10it [02:10, 13.15s/it]"
     ]
    },
    {
     "output_type": "stream",
     "name": "stdout",
     "text": [
      "random_forest best grid search score: 1.0 with params - {'class_weight': None, 'min_samples_leaf': 1, 'min_samples_split': 2, 'n_estimators': 500}\n"
     ]
    },
    {
     "output_type": "stream",
     "name": "stderr",
     "text": [
      "11it [02:23, 13.07s/it]"
     ]
    },
    {
     "output_type": "stream",
     "name": "stdout",
     "text": [
      "random_forest best grid search score: 1.0 with params - {'class_weight': None, 'min_samples_leaf': 1, 'min_samples_split': 2, 'n_estimators': 500}\n"
     ]
    },
    {
     "output_type": "stream",
     "name": "stderr",
     "text": [
      "12it [02:36, 12.94s/it]"
     ]
    },
    {
     "output_type": "stream",
     "name": "stdout",
     "text": [
      "random_forest best grid search score: 1.0 with params - {'class_weight': None, 'min_samples_leaf': 1, 'min_samples_split': 2, 'n_estimators': 500}\n"
     ]
    },
    {
     "output_type": "stream",
     "name": "stderr",
     "text": [
      "13it [02:49, 13.01s/it]\n"
     ]
    }
   ],
   "metadata": {
    "tags": []
   }
  },
  {
   "cell_type": "code",
   "execution_count": 13,
   "source": [
    "# Save results\r\n",
    "detector_type = 'Personal'\r\n",
    "dump_result_to_csv(results, dataset_name, detection_strategy, detector_type)"
   ],
   "outputs": [],
   "metadata": {}
  }
 ],
 "metadata": {
  "interpreter": {
   "hash": "820beee9ae6002b7a74b94e11c684a186db5ecded8789d3d7a3f1b5d99becc3a"
  },
  "kernelspec": {
   "name": "python3",
   "display_name": "Python 3.9.1 64-bit"
  },
  "language_info": {
   "codemirror_mode": {
    "name": "ipython",
    "version": 3
   },
   "file_extension": ".py",
   "mimetype": "text/x-python",
   "name": "python",
   "nbconvert_exporter": "python",
   "pygments_lexer": "ipython3",
   "version": "3.9.1"
  },
  "orig_nbformat": 2
 },
 "nbformat": 4,
 "nbformat_minor": 2
}