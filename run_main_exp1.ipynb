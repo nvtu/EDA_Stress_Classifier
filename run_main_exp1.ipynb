{
 "metadata": {
  "language_info": {
   "codemirror_mode": {
    "name": "ipython",
    "version": 3
   },
   "file_extension": ".py",
   "mimetype": "text/x-python",
   "name": "python",
   "nbconvert_exporter": "python",
   "pygments_lexer": "ipython3",
   "version": "3.7.6-final"
  },
  "orig_nbformat": 2,
  "kernelspec": {
   "name": "python3",
   "display_name": "Python 3"
  }
 },
 "nbformat": 4,
 "nbformat_minor": 2,
 "cells": [
  {
   "cell_type": "code",
   "execution_count": 1,
   "metadata": {},
   "outputs": [],
   "source": [
    "import os\n",
    "import os.path as osp\n",
    "import numpy as np\n",
    "import configparser\n",
    "from classifiers import BinaryClassifier\n",
    "import pandas as pd\n",
    "from sklearn.model_selection import LeaveOneGroupOut\n",
    "from tqdm import tqdm"
   ]
  },
  {
   "source": [
    "# Load eda statistical features and ground-truth from datasets"
   ],
   "cell_type": "markdown",
   "metadata": {}
  },
  {
   "cell_type": "code",
   "execution_count": 2,
   "metadata": {},
   "outputs": [],
   "source": [
    "def get_dataset_folder_path(dataset_name: str) -> str:\n",
    "    # Read dataset path from config.ini file\n",
    "    config_path = osp.join(os.getcwd(), 'config.ini')\n",
    "    parser = configparser.ConfigParser()\n",
    "    parser.read(config_path)\n",
    "    dataset_folder_path = None\n",
    "    if dataset_name == 'AffectiveROAD':\n",
    "        dataset_folder_path = parser['DATA_PATH']['affectiveROAD_dataset_path']\n",
    "    elif dataset_name in ['WESAD_CHEST', 'WESAD_WRIST']:\n",
    "        dataset_folder_path = parser['DATA_PATH']['wesad_dataset_path']\n",
    "    elif dataset_name == 'DCU_NVT_EXP1':\n",
    "        dataset_folder_path = parser['DATA_PATH']['dcu_nvt_dataset_path']\n",
    "    return dataset_folder_path"
   ]
  },
  {
   "cell_type": "code",
   "execution_count": 3,
   "metadata": {},
   "outputs": [],
   "source": [
    "def load_dataset(dataset_name: str):\n",
    "    dataset = None\n",
    "    ground_truth = None\n",
    "    # Initialize dataset folder path\n",
    "    dataset_folder_path = get_dataset_folder_path(dataset_name)\n",
    "    # Initialize dataset file path\n",
    "    dataset_file_path = osp.join(dataset_folder_path, f'{dataset_name}_stats_feats.npy')\n",
    "    # Initialize ground-truth file path\n",
    "    ground_truth_file_path = osp.join(dataset_folder_path, f'{dataset_name}_ground_truth.npy')\n",
    "    # Initialize group file path\n",
    "    group_file_path = osp.join(dataset_folder_path, f'{dataset_name}_groups.npy')\n",
    "\n",
    "    # Load dataset, ground-truth, and groups\n",
    "    dataset = np.load(dataset_file_path) # Load dataset\n",
    "    ground_truth = np.load(ground_truth_file_path) # Load corresponding ground-truth\n",
    "    groups = np.load(group_file_path) # Load corresponding user_id labels\n",
    "    return dataset, ground_truth, groups"
   ]
  },
  {
   "source": [
    "# Define functions to get output folder path and save results"
   ],
   "cell_type": "markdown",
   "metadata": {}
  },
  {
   "cell_type": "code",
   "execution_count": 4,
   "metadata": {},
   "outputs": [],
   "source": [
    "def get_output_folder_path(dataset_name: str) -> str:\n",
    "    config_path = osp.join(os.getcwd(), 'config.ini')\n",
    "    parser = configparser.ConfigParser()\n",
    "    parser.read(config_path)\n",
    "    # Get output_folder_path for a specific dataset\n",
    "    output_folder_path = osp.join(parser['DATA_PATH']['result_path'], dataset_name)\n",
    "    # Create the output folder if it does not exist\n",
    "    if not osp.exists(output_folder_path):\n",
    "        os.makedirs(output_folder_path)\n",
    "    return output_folder_path"
   ]
  },
  {
   "cell_type": "code",
   "execution_count": 5,
   "metadata": {},
   "outputs": [],
   "source": [
    "def dump_result_to_csv(results, dataset_name: str, detection_strategy: str, detector_type: str):\n",
    "    output_folder_path = osp.join(get_output_folder_path(dataset_name), detector_type)\n",
    "    # Create the folder if it does not exist\n",
    "    if not osp.exists(output_folder_path):\n",
    "        os.makedirs(output_folder_path)\n",
    "    # Get output_file_path\n",
    "    output_file_path = osp.join(output_folder_path, f'{dataset_name}-{detection_strategy}.csv')\n",
    "    # Generate DataFrame to save to csv format\n",
    "    df = pd.DataFrame.from_dict(results)\n",
    "    df.to_csv(output_file_path, index=False)    "
   ]
  },
  {
   "source": [
    "## Load dataset and ground-truth as well as dividing groups"
   ],
   "cell_type": "markdown",
   "metadata": {}
  },
  {
   "source": [
    "# -- Uncomment the dataset that you wanna load -- #\n",
    "# dataset_name = 'AffectiveROAD'\n",
    "# dataset_name = 'WESAD_CHEST'\n",
    "dataset_name = 'WESAD_WRIST'\n",
    "# dataset_name = 'DCU_NVT_EXP1'"
   ],
   "cell_type": "code",
   "metadata": {},
   "execution_count": 6,
   "outputs": []
  },
  {
   "cell_type": "code",
   "execution_count": 7,
   "metadata": {},
   "outputs": [],
   "source": [
    "dataset, ground_truth, groups = load_dataset(dataset_name) # Load dataset and ground-truths"
   ]
  },
  {
   "source": [
    "# Define stress detection strategies"
   ],
   "cell_type": "markdown",
   "metadata": {}
  },
  {
   "cell_type": "code",
   "execution_count": 8,
   "metadata": {},
   "outputs": [],
   "source": [
    "# -- Uncomment the detection strategy that you wanna use to detect -- #\n",
    "detection_strategy = 'logistic_regression'\n",
    "# detection_strategy = 'random_forest'\n",
    "# detection_strategy = 'svm'\n",
    "# detection_strategy = 'mlp'\n",
    "# detection_strategy = 'knn'"
   ]
  },
  {
   "cell_type": "code",
   "execution_count": 9,
   "metadata": {},
   "outputs": [],
   "source": [
    "SCORING = 'balanced_accuracy'"
   ]
  },
  {
   "source": [
    "# Build General Cross-population Stress Detector"
   ],
   "cell_type": "markdown",
   "metadata": {}
  },
  {
   "cell_type": "code",
   "execution_count": 10,
   "metadata": {},
   "outputs": [
    {
     "output_type": "stream",
     "name": "stderr",
     "text": [
      "0it [00:00, ?it/s]/opt/anaconda3/lib/python3.7/site-packages/sklearn/linear_model/logistic.py:432: FutureWarning: Default solver will be changed to 'lbfgs' in 0.22. Specify a solver to silence this warning.\n",
      "  FutureWarning)\n",
      "1it [00:01,  1.00s/it]/opt/anaconda3/lib/python3.7/site-packages/sklearn/linear_model/logistic.py:432: FutureWarning: Default solver will be changed to 'lbfgs' in 0.22. Specify a solver to silence this warning.\n",
      "  FutureWarning)\n",
      "2it [00:01,  1.32it/s]/opt/anaconda3/lib/python3.7/site-packages/sklearn/linear_model/logistic.py:432: FutureWarning: Default solver will be changed to 'lbfgs' in 0.22. Specify a solver to silence this warning.\n",
      "  FutureWarning)\n",
      "3it [00:01,  1.70it/s]/opt/anaconda3/lib/python3.7/site-packages/sklearn/linear_model/logistic.py:432: FutureWarning: Default solver will be changed to 'lbfgs' in 0.22. Specify a solver to silence this warning.\n",
      "  FutureWarning)\n",
      "4it [00:01,  2.13it/s]/opt/anaconda3/lib/python3.7/site-packages/sklearn/linear_model/logistic.py:432: FutureWarning: Default solver will be changed to 'lbfgs' in 0.22. Specify a solver to silence this warning.\n",
      "  FutureWarning)\n",
      "5it [00:01,  2.61it/s]/opt/anaconda3/lib/python3.7/site-packages/sklearn/linear_model/logistic.py:432: FutureWarning: Default solver will be changed to 'lbfgs' in 0.22. Specify a solver to silence this warning.\n",
      "  FutureWarning)\n",
      "6it [00:02,  2.82it/s]/opt/anaconda3/lib/python3.7/site-packages/sklearn/linear_model/logistic.py:432: FutureWarning: Default solver will be changed to 'lbfgs' in 0.22. Specify a solver to silence this warning.\n",
      "  FutureWarning)\n",
      "7it [00:02,  3.29it/s]/opt/anaconda3/lib/python3.7/site-packages/sklearn/linear_model/logistic.py:432: FutureWarning: Default solver will be changed to 'lbfgs' in 0.22. Specify a solver to silence this warning.\n",
      "  FutureWarning)\n",
      "8it [00:02,  3.49it/s]/opt/anaconda3/lib/python3.7/site-packages/sklearn/linear_model/logistic.py:432: FutureWarning: Default solver will be changed to 'lbfgs' in 0.22. Specify a solver to silence this warning.\n",
      "  FutureWarning)\n",
      "9it [00:02,  3.68it/s]/opt/anaconda3/lib/python3.7/site-packages/sklearn/linear_model/logistic.py:432: FutureWarning: Default solver will be changed to 'lbfgs' in 0.22. Specify a solver to silence this warning.\n",
      "  FutureWarning)\n",
      "10it [00:02,  3.72it/s]/opt/anaconda3/lib/python3.7/site-packages/sklearn/linear_model/logistic.py:432: FutureWarning: Default solver will be changed to 'lbfgs' in 0.22. Specify a solver to silence this warning.\n",
      "  FutureWarning)\n",
      "11it [00:03,  3.88it/s]/opt/anaconda3/lib/python3.7/site-packages/sklearn/linear_model/logistic.py:432: FutureWarning: Default solver will be changed to 'lbfgs' in 0.22. Specify a solver to silence this warning.\n",
      "  FutureWarning)\n",
      "12it [00:03,  4.34it/s]/opt/anaconda3/lib/python3.7/site-packages/sklearn/linear_model/logistic.py:432: FutureWarning: Default solver will be changed to 'lbfgs' in 0.22. Specify a solver to silence this warning.\n",
      "  FutureWarning)\n",
      "13it [00:03,  4.80it/s]/opt/anaconda3/lib/python3.7/site-packages/sklearn/linear_model/logistic.py:432: FutureWarning: Default solver will be changed to 'lbfgs' in 0.22. Specify a solver to silence this warning.\n",
      "  FutureWarning)\n",
      "14it [00:03,  4.53it/s]/opt/anaconda3/lib/python3.7/site-packages/sklearn/linear_model/logistic.py:432: FutureWarning: Default solver will be changed to 'lbfgs' in 0.22. Specify a solver to silence this warning.\n",
      "  FutureWarning)\n",
      "15it [00:03,  3.75it/s]\n"
     ]
    }
   ],
   "source": [
    "clf = BinaryClassifier(dataset, ground_truth, detection_strategy, logo_validation = True, groups = groups, scoring = SCORING)\n",
    "results = clf.exec_classifier() # Build classifier and return prediction results"
   ]
  },
  {
   "cell_type": "code",
   "execution_count": 11,
   "metadata": {},
   "outputs": [],
   "source": [
    "# Save results\n",
    "detector_type = 'General'\n",
    "dump_result_to_csv(results, dataset_name, detection_strategy, detector_type)"
   ]
  },
  {
   "source": [
    "# Build Person-specific Stress Detector"
   ],
   "cell_type": "markdown",
   "metadata": {}
  },
  {
   "cell_type": "code",
   "execution_count": 12,
   "metadata": {},
   "outputs": [
    {
     "output_type": "stream",
     "name": "stderr",
     "text": [
      "0it [00:00, ?it/s]/opt/anaconda3/lib/python3.7/site-packages/sklearn/linear_model/logistic.py:432: FutureWarning: Default solver will be changed to 'lbfgs' in 0.22. Specify a solver to silence this warning.\n",
      "  FutureWarning)\n",
      "/opt/anaconda3/lib/python3.7/site-packages/sklearn/model_selection/_search.py:814: DeprecationWarning: The default of the `iid` parameter will change from True to False in version 0.22 and will be removed in 0.24. This will change numeric results when test-set sizes are unequal.\n",
      "  DeprecationWarning)\n",
      "/opt/anaconda3/lib/python3.7/site-packages/sklearn/linear_model/logistic.py:432: FutureWarning: Default solver will be changed to 'lbfgs' in 0.22. Specify a solver to silence this warning.\n",
      "  FutureWarning)\n",
      "/opt/anaconda3/lib/python3.7/site-packages/sklearn/model_selection/_search.py:814: DeprecationWarning: The default of the `iid` parameter will change from True to False in version 0.22 and will be removed in 0.24. This will change numeric results when test-set sizes are unequal.\n",
      "  DeprecationWarning)\n",
      "/opt/anaconda3/lib/python3.7/site-packages/sklearn/linear_model/logistic.py:432: FutureWarning: Default solver will be changed to 'lbfgs' in 0.22. Specify a solver to silence this warning.\n",
      "  FutureWarning)\n",
      "3it [00:00, 22.08it/s]/opt/anaconda3/lib/python3.7/site-packages/sklearn/model_selection/_search.py:814: DeprecationWarning: The default of the `iid` parameter will change from True to False in version 0.22 and will be removed in 0.24. This will change numeric results when test-set sizes are unequal.\n",
      "  DeprecationWarning)\n",
      "/opt/anaconda3/lib/python3.7/site-packages/sklearn/linear_model/logistic.py:432: FutureWarning: Default solver will be changed to 'lbfgs' in 0.22. Specify a solver to silence this warning.\n",
      "  FutureWarning)\n",
      "/opt/anaconda3/lib/python3.7/site-packages/sklearn/model_selection/_search.py:814: DeprecationWarning: The default of the `iid` parameter will change from True to False in version 0.22 and will be removed in 0.24. This will change numeric results when test-set sizes are unequal.\n",
      "  DeprecationWarning)\n",
      "/opt/anaconda3/lib/python3.7/site-packages/sklearn/linear_model/logistic.py:432: FutureWarning: Default solver will be changed to 'lbfgs' in 0.22. Specify a solver to silence this warning.\n",
      "  FutureWarning)\n",
      "/opt/anaconda3/lib/python3.7/site-packages/sklearn/model_selection/_search.py:814: DeprecationWarning: The default of the `iid` parameter will change from True to False in version 0.22 and will be removed in 0.24. This will change numeric results when test-set sizes are unequal.\n",
      "  DeprecationWarning)\n",
      "/opt/anaconda3/lib/python3.7/site-packages/sklearn/linear_model/logistic.py:432: FutureWarning: Default solver will be changed to 'lbfgs' in 0.22. Specify a solver to silence this warning.\n",
      "  FutureWarning)\n",
      "6it [00:00, 22.29it/s]/opt/anaconda3/lib/python3.7/site-packages/sklearn/model_selection/_search.py:814: DeprecationWarning: The default of the `iid` parameter will change from True to False in version 0.22 and will be removed in 0.24. This will change numeric results when test-set sizes are unequal.\n",
      "  DeprecationWarning)\n",
      "/opt/anaconda3/lib/python3.7/site-packages/sklearn/linear_model/logistic.py:432: FutureWarning: Default solver will be changed to 'lbfgs' in 0.22. Specify a solver to silence this warning.\n",
      "  FutureWarning)\n",
      "/opt/anaconda3/lib/python3.7/site-packages/sklearn/linear_model/logistic.py:432: FutureWarning: Default solver will be changed to 'lbfgs' in 0.22. Specify a solver to silence this warning.\n",
      "  FutureWarning)\n",
      "/opt/anaconda3/lib/python3.7/site-packages/sklearn/model_selection/_search.py:814: DeprecationWarning: The default of the `iid` parameter will change from True to False in version 0.22 and will be removed in 0.24. This will change numeric results when test-set sizes are unequal.\n",
      "  DeprecationWarning)\n",
      "/opt/anaconda3/lib/python3.7/site-packages/sklearn/linear_model/logistic.py:432: FutureWarning: Default solver will be changed to 'lbfgs' in 0.22. Specify a solver to silence this warning.\n",
      "  FutureWarning)\n",
      "9it [00:00, 22.54it/s]/opt/anaconda3/lib/python3.7/site-packages/sklearn/linear_model/logistic.py:432: FutureWarning: Default solver will be changed to 'lbfgs' in 0.22. Specify a solver to silence this warning.\n",
      "  FutureWarning)\n",
      "/opt/anaconda3/lib/python3.7/site-packages/sklearn/model_selection/_search.py:814: DeprecationWarning: The default of the `iid` parameter will change from True to False in version 0.22 and will be removed in 0.24. This will change numeric results when test-set sizes are unequal.\n",
      "  DeprecationWarning)\n",
      "/opt/anaconda3/lib/python3.7/site-packages/sklearn/linear_model/logistic.py:432: FutureWarning: Default solver will be changed to 'lbfgs' in 0.22. Specify a solver to silence this warning.\n",
      "  FutureWarning)\n",
      "/opt/anaconda3/lib/python3.7/site-packages/sklearn/model_selection/_search.py:814: DeprecationWarning: The default of the `iid` parameter will change from True to False in version 0.22 and will be removed in 0.24. This will change numeric results when test-set sizes are unequal.\n",
      "  DeprecationWarning)\n",
      "/opt/anaconda3/lib/python3.7/site-packages/sklearn/linear_model/logistic.py:432: FutureWarning: Default solver will be changed to 'lbfgs' in 0.22. Specify a solver to silence this warning.\n",
      "  FutureWarning)\n",
      "12it [00:00, 22.66it/s]/opt/anaconda3/lib/python3.7/site-packages/sklearn/model_selection/_search.py:814: DeprecationWarning: The default of the `iid` parameter will change from True to False in version 0.22 and will be removed in 0.24. This will change numeric results when test-set sizes are unequal.\n",
      "  DeprecationWarning)\n",
      "/opt/anaconda3/lib/python3.7/site-packages/sklearn/linear_model/logistic.py:432: FutureWarning: Default solver will be changed to 'lbfgs' in 0.22. Specify a solver to silence this warning.\n",
      "  FutureWarning)\n",
      "/opt/anaconda3/lib/python3.7/site-packages/sklearn/linear_model/logistic.py:432: FutureWarning: Default solver will be changed to 'lbfgs' in 0.22. Specify a solver to silence this warning.\n",
      "  FutureWarning)\n",
      "/opt/anaconda3/lib/python3.7/site-packages/sklearn/model_selection/_search.py:814: DeprecationWarning: The default of the `iid` parameter will change from True to False in version 0.22 and will be removed in 0.24. This will change numeric results when test-set sizes are unequal.\n",
      "  DeprecationWarning)\n",
      "/opt/anaconda3/lib/python3.7/site-packages/sklearn/linear_model/logistic.py:432: FutureWarning: Default solver will be changed to 'lbfgs' in 0.22. Specify a solver to silence this warning.\n",
      "  FutureWarning)\n",
      "15it [00:00, 22.87it/s]\n"
     ]
    }
   ],
   "source": [
    "logo = LeaveOneGroupOut()\n",
    "balanced_accs = []\n",
    "cv_balanced_accs = []\n",
    "test_groups = []\n",
    "for _, test_index in tqdm(logo.split(dataset, ground_truth, groups)):\n",
    "    user_dataset, user_ground_truth = dataset[test_index], ground_truth[test_index] # Get personal statistical features and ground-truths of a user\n",
    "    \n",
    "    # Re-initialize classifier when iterating a new user\n",
    "    clf = BinaryClassifier(user_dataset, user_ground_truth, detection_strategy, cross_validation = True, scoring = SCORING)\n",
    "    cv_balanced_acc, balanced_acc = clf.exec_classifier()\n",
    "\n",
    "    if cv_balanced_acc == -1 and balanced_acc == -1:\n",
    "        continue # Ignore this user as it only contains one class\n",
    "\n",
    "    # Save user_id and his/her corresponding predicted results\n",
    "    balanced_accs.append(balanced_acc)\n",
    "    cv_balanced_accs.append(cv_balanced_acc)\n",
    "    test_groups.append(groups[test_index][0])\n",
    "results = { 'groups': test_groups, 'balanced_accurary_score': balanced_accs, 'cv_balanced_accuracy_score': cv_balanced_accs }"
   ]
  },
  {
   "cell_type": "code",
   "execution_count": 13,
   "metadata": {},
   "outputs": [],
   "source": [
    "# Save results\n",
    "detector_type = 'Personal'\n",
    "dump_result_to_csv(results, dataset_name, detection_strategy, detector_type)"
   ]
  },
  {
   "cell_type": "code",
   "execution_count": null,
   "metadata": {},
   "outputs": [],
   "source": []
  }
 ]
}