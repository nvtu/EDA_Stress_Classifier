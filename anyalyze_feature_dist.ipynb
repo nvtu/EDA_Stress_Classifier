{
 "metadata": {
  "language_info": {
   "codemirror_mode": {
    "name": "ipython",
    "version": 3
   },
   "file_extension": ".py",
   "mimetype": "text/x-python",
   "name": "python",
   "nbconvert_exporter": "python",
   "pygments_lexer": "ipython3",
   "version": "3.8.3"
  },
  "orig_nbformat": 2,
  "kernelspec": {
   "name": "python3",
   "display_name": "Python 3.8.3 64-bit ('base': conda)"
  },
  "interpreter": {
   "hash": "a1d5b9100ccb4936a513a4c2e96581413c43726381ca42ceaddfd68a024f20b1"
  }
 },
 "nbformat": 4,
 "nbformat_minor": 2,
 "cells": [
  {
   "cell_type": "code",
   "execution_count": 39,
   "source": [
    "import os\n",
    "import configparser\n",
    "import os.path as osp\n",
    "import numpy as np\n",
    "import pandas as pd\n",
    "import seaborn as sns\n",
    "import matplotlib.pyplot as plt\n",
    "# sns.set_theme(style='whitegrid')\n",
    "sns.set(rc={'figure.figsize':(11.7,8.27)})"
   ],
   "outputs": [],
   "metadata": {}
  },
  {
   "cell_type": "code",
   "execution_count": 40,
   "source": [
    "def get_dataset_path(dataset_name: str) -> str:\n",
    "    config_path = osp.join(os.getcwd(), 'config.ini')\n",
    "    parser = configparser.ConfigParser()\n",
    "    parser.read(config_path)\n",
    "    data_path = None\n",
    "    if dataset_name == 'DCU_NVT_EXP1':\n",
    "        data_path = parser['DATA_PATH']['dcu_nvt_dataset_path']\n",
    "    elif dataset_name in ['WESAD_CHEST', 'WESAD_WRIST']:\n",
    "        data_path = parser['DATA_PATH']['wesad_dataset_path']\n",
    "    elif dataset_name == 'AffectiveROAD':\n",
    "        data_path = parser['DATA_PATH']['affectiveROAD_dataset_path']\n",
    "    return data_path"
   ],
   "outputs": [],
   "metadata": {}
  },
  {
   "cell_type": "code",
   "execution_count": 41,
   "source": [
    "def load_stats_feature(dataset_name: str, WINDOW_SHIFT: int = 20, WINDOW_SIZE: int = 60):\n",
    "    data_path = get_dataset_path(dataset_name)\n",
    "    data_path = osp.join(data_path, f'{dataset_name}_stats_feats_{WINDOW_SHIFT}_{WINDOW_SIZE}.npy')\n",
    "    stats_feature = np.load(data_path)\n",
    "    return stats_feature"
   ],
   "outputs": [],
   "metadata": {}
  },
  {
   "cell_type": "code",
   "execution_count": 42,
   "source": [
    "def load_group(dataset_name: str, WINDOW_SHIFT: int = 20, WINDOW_SIZE: int = 60):\n",
    "    data_path = get_dataset_path(dataset_name)\n",
    "    data_path = osp.join(data_path, f'{dataset_name}_groups_{WINDOW_SHIFT}_{WINDOW_SIZE}.npy')\n",
    "    groups = np.load(data_path)\n",
    "    return groups"
   ],
   "outputs": [],
   "metadata": {}
  },
  {
   "cell_type": "code",
   "execution_count": 43,
   "source": [
    "def load_ground_truth(dataset_name: str, WINDOW_SHIFT: int = 20, WINDOW_SIZE: int = 60):\n",
    "    data_path = get_dataset_path(dataset_name)\n",
    "    data_path = osp.join(data_path, f'{dataset_name}_ground_truth_{WINDOW_SHIFT}_{WINDOW_SIZE}.npy')\n",
    "    ground_truth = np.load(data_path)\n",
    "    return ground_truth"
   ],
   "outputs": [],
   "metadata": {}
  },
  {
   "cell_type": "code",
   "execution_count": 44,
   "source": [
    "dataset_name = 'DCU_NVT_EXP1'\n",
    "dataset_name = 'WESAD_CHEST'\n",
    "dataset_name = 'AffectiveROAD'\n",
    "# dataset_name = 'WESAD_WRIST'"
   ],
   "outputs": [],
   "metadata": {}
  },
  {
   "cell_type": "code",
   "execution_count": 45,
   "source": [
    "stats_feature = load_stats_feature(dataset_name, 15, 30)\n",
    "groups = load_group(dataset_name, 15, 30)\n",
    "data = pd.DataFrame(data=stats_feature)\n",
    "ground_truth = load_ground_truth(dataset_name, 15, 30)"
   ],
   "outputs": [
    {
     "output_type": "error",
     "ename": "FileNotFoundError",
     "evalue": "[Errno 2] No such file or directory: '/home/nvtu/PhD_Work/StressDetection/DATA/MyDataset/AffectiveROAD_Data/Database/AffectiveROAD_stats_feats_15.npy'",
     "traceback": [
      "\u001b[0;31m---------------------------------------------------------------------------\u001b[0m",
      "\u001b[0;31mFileNotFoundError\u001b[0m                         Traceback (most recent call last)",
      "\u001b[0;32m<ipython-input-45-02c149cfe0d2>\u001b[0m in \u001b[0;36m<module>\u001b[0;34m\u001b[0m\n\u001b[0;32m----> 1\u001b[0;31m \u001b[0mstats_feature\u001b[0m \u001b[0;34m=\u001b[0m \u001b[0mload_stats_feature\u001b[0m\u001b[0;34m(\u001b[0m\u001b[0mdataset_name\u001b[0m\u001b[0;34m,\u001b[0m \u001b[0;36m15\u001b[0m\u001b[0;34m,\u001b[0m \u001b[0;36m30\u001b[0m\u001b[0;34m)\u001b[0m\u001b[0;34m\u001b[0m\u001b[0;34m\u001b[0m\u001b[0m\n\u001b[0m\u001b[1;32m      2\u001b[0m \u001b[0mgroups\u001b[0m \u001b[0;34m=\u001b[0m \u001b[0mload_group\u001b[0m\u001b[0;34m(\u001b[0m\u001b[0mdataset_name\u001b[0m\u001b[0;34m,\u001b[0m \u001b[0;36m15\u001b[0m\u001b[0;34m,\u001b[0m \u001b[0;36m30\u001b[0m\u001b[0;34m)\u001b[0m\u001b[0;34m\u001b[0m\u001b[0;34m\u001b[0m\u001b[0m\n\u001b[1;32m      3\u001b[0m \u001b[0mdata\u001b[0m \u001b[0;34m=\u001b[0m \u001b[0mpd\u001b[0m\u001b[0;34m.\u001b[0m\u001b[0mDataFrame\u001b[0m\u001b[0;34m(\u001b[0m\u001b[0mdata\u001b[0m\u001b[0;34m=\u001b[0m\u001b[0mstats_feature\u001b[0m\u001b[0;34m)\u001b[0m\u001b[0;34m\u001b[0m\u001b[0;34m\u001b[0m\u001b[0m\n\u001b[1;32m      4\u001b[0m \u001b[0mground_truth\u001b[0m \u001b[0;34m=\u001b[0m \u001b[0mload_ground_truth\u001b[0m\u001b[0;34m(\u001b[0m\u001b[0mdataset_name\u001b[0m\u001b[0;34m,\u001b[0m \u001b[0;36m15\u001b[0m\u001b[0;34m,\u001b[0m \u001b[0;36m30\u001b[0m\u001b[0;34m)\u001b[0m\u001b[0;34m\u001b[0m\u001b[0;34m\u001b[0m\u001b[0m\n",
      "\u001b[0;32m<ipython-input-41-ea97bb75d568>\u001b[0m in \u001b[0;36mload_stats_feature\u001b[0;34m(dataset_name, WINDOW_SHIFT, WINDOW_SIZE)\u001b[0m\n\u001b[1;32m      2\u001b[0m     \u001b[0mdata_path\u001b[0m \u001b[0;34m=\u001b[0m \u001b[0mget_dataset_path\u001b[0m\u001b[0;34m(\u001b[0m\u001b[0mdataset_name\u001b[0m\u001b[0;34m)\u001b[0m\u001b[0;34m\u001b[0m\u001b[0;34m\u001b[0m\u001b[0m\n\u001b[1;32m      3\u001b[0m     \u001b[0mdata_path\u001b[0m \u001b[0;34m=\u001b[0m \u001b[0mosp\u001b[0m\u001b[0;34m.\u001b[0m\u001b[0mjoin\u001b[0m\u001b[0;34m(\u001b[0m\u001b[0mdata_path\u001b[0m\u001b[0;34m,\u001b[0m \u001b[0;34mf'{dataset_name}_stats_feats_{WINDOW_SHIFT}.npy'\u001b[0m\u001b[0;34m)\u001b[0m\u001b[0;34m\u001b[0m\u001b[0;34m\u001b[0m\u001b[0m\n\u001b[0;32m----> 4\u001b[0;31m     \u001b[0mstats_feature\u001b[0m \u001b[0;34m=\u001b[0m \u001b[0mnp\u001b[0m\u001b[0;34m.\u001b[0m\u001b[0mload\u001b[0m\u001b[0;34m(\u001b[0m\u001b[0mdata_path\u001b[0m\u001b[0;34m)\u001b[0m\u001b[0;34m\u001b[0m\u001b[0;34m\u001b[0m\u001b[0m\n\u001b[0m\u001b[1;32m      5\u001b[0m     \u001b[0;32mreturn\u001b[0m \u001b[0mstats_feature\u001b[0m\u001b[0;34m\u001b[0m\u001b[0;34m\u001b[0m\u001b[0m\n",
      "\u001b[0;32m/home/nmduy/anaconda3/lib/python3.8/site-packages/numpy/lib/npyio.py\u001b[0m in \u001b[0;36mload\u001b[0;34m(file, mmap_mode, allow_pickle, fix_imports, encoding)\u001b[0m\n\u001b[1;32m    426\u001b[0m         \u001b[0mown_fid\u001b[0m \u001b[0;34m=\u001b[0m \u001b[0;32mFalse\u001b[0m\u001b[0;34m\u001b[0m\u001b[0;34m\u001b[0m\u001b[0m\n\u001b[1;32m    427\u001b[0m     \u001b[0;32melse\u001b[0m\u001b[0;34m:\u001b[0m\u001b[0;34m\u001b[0m\u001b[0;34m\u001b[0m\u001b[0m\n\u001b[0;32m--> 428\u001b[0;31m         \u001b[0mfid\u001b[0m \u001b[0;34m=\u001b[0m \u001b[0mopen\u001b[0m\u001b[0;34m(\u001b[0m\u001b[0mos_fspath\u001b[0m\u001b[0;34m(\u001b[0m\u001b[0mfile\u001b[0m\u001b[0;34m)\u001b[0m\u001b[0;34m,\u001b[0m \u001b[0;34m\"rb\"\u001b[0m\u001b[0;34m)\u001b[0m\u001b[0;34m\u001b[0m\u001b[0;34m\u001b[0m\u001b[0m\n\u001b[0m\u001b[1;32m    429\u001b[0m         \u001b[0mown_fid\u001b[0m \u001b[0;34m=\u001b[0m \u001b[0;32mTrue\u001b[0m\u001b[0;34m\u001b[0m\u001b[0;34m\u001b[0m\u001b[0m\n\u001b[1;32m    430\u001b[0m \u001b[0;34m\u001b[0m\u001b[0m\n",
      "\u001b[0;31mFileNotFoundError\u001b[0m: [Errno 2] No such file or directory: '/home/nvtu/PhD_Work/StressDetection/DATA/MyDataset/AffectiveROAD_Data/Database/AffectiveROAD_stats_feats_15.npy'"
     ]
    }
   ],
   "metadata": {}
  },
  {
   "cell_type": "code",
   "execution_count": null,
   "source": [
    "column_name = [\n",
    "# HRV features\n",
    "'mean_HR', 'std_HR', 'mean_HRV', 'std_HRV', 'kurtosis_HRV', 'skewness_HRV', 'nn50', 'HRV_pNN50', 'HRV_pNN25', 'HRV_TINN', 'HRV_RMSSD', 'HRV_LF', 'HRV_HF', 'HRV_LFHF', 'HRV_LFnorm', 'HRV_HFnorm', 'HRV_SD1', 'HRV_SD2', 'HRV_SDRR_RMSSD', 'mean_relativeRRI', 'median_relativeRRI', 'std_relativeRRI', 'RMSSD_relativeRRI', 'kurtosis_relativeRRI', 'skew_relativeRRI', \n",
    "# EDA features\n",
    "'mean_scl', 'std_scl', 'std_scr', 'corr', \n",
    "'num_responses', 'sum_scr_response_duration', 'sum_scr_amplitude', \n",
    "'area_of_response_curve', \n",
    "'num_scr_peaks', 'mean_eda', 'std_eda', 'min_eda', 'max_eda', \n",
    "'eda_dynamic_range', \n",
    "'mean_scr', 'max_scr', 'min_scr', 'kurtosis_scr', 'skewness_scr', \n",
    "'mean_first_grad', 'std_first_grad', 'mean_second_grad', \n",
    "'std_second_grad', \n",
    "'mean_peaks', 'max_peaks', 'min_peaks','std_peaks', 'mean_onsets', \n",
    "'max_onsets', 'min_onsets', 'std_onsets', \n",
    "'ALSC', 'INSC', 'APSC', 'RMSC']"
   ],
   "outputs": [],
   "metadata": {}
  },
  {
   "cell_type": "code",
   "execution_count": null,
   "source": [
    "print(column_name[11], column_name[13], column_name[14], column_name[32], column_name[22], column_name[27], column_name[0], column_name[21], column_name[59])"
   ],
   "outputs": [
    {
     "output_type": "stream",
     "name": "stdout",
     "text": [
      "HRV_LF HRV_LFHF HRV_LFnorm area_of_response_curve RMSSD_relativeRRI std_scr mean_HR std_relativeRRI RMSC\n"
     ]
    }
   ],
   "metadata": {}
  },
  {
   "cell_type": "code",
   "execution_count": null,
   "source": [
    "sns.boxplot(x=groups, y=stats_feature[:, 11])"
   ],
   "outputs": [
    {
     "output_type": "execute_result",
     "data": {
      "text/plain": [
       "<matplotlib.axes._subplots.AxesSubplot at 0x7fed803e2730>"
      ]
     },
     "metadata": {},
     "execution_count": 36
    },
    {
     "output_type": "display_data",
     "data": {
      "image/png": "[encoded data removed]",
      "text/plain": [
       "<Figure size 842.4x595.44 with 1 Axes>"
      ]
     },
     "metadata": {}
    }
   ],
   "metadata": {}
  },
  {
   "cell_type": "code",
   "execution_count": null,
   "source": [
    "USER_ID = 'S14'\n",
    "indices = len(np.where(groups == USER_ID)[0])\n",
    "print(indices)"
   ],
   "outputs": [
    {
     "output_type": "stream",
     "name": "stdout",
     "text": [
      "0\n"
     ]
    }
   ],
   "metadata": {}
  },
  {
   "cell_type": "code",
   "execution_count": null,
   "source": [
    "print(len(groups))"
   ],
   "outputs": [
    {
     "output_type": "stream",
     "name": "stdout",
     "text": [
      "40133\n"
     ]
    }
   ],
   "metadata": {}
  },
  {
   "cell_type": "code",
   "execution_count": null,
   "source": [],
   "outputs": [],
   "metadata": {}
  }
 ]
}