{
 "cells": [
  {
   "cell_type": "code",
   "execution_count": 171,
   "source": [
    "import os\n",
    "import os.path as osp\n",
    "import numpy as np\n",
    "import configparser\n",
    "import pandas as pd"
   ],
   "outputs": [],
   "metadata": {}
  },
  {
   "cell_type": "code",
   "execution_count": 172,
   "source": [
    "def get_result_folder_path(dataset_name: str) -> str:\n",
    "    # Read dataset path from config.ini file\n",
    "    config_path = osp.join(os.getcwd(), 'config.ini')\n",
    "    parser = configparser.ConfigParser()\n",
    "    parser.read(config_path)\n",
    "    dataset_folder_path = None\n",
    "    dataset_folder_path = osp.join(parser['DATA_PATH']['result_path'], dataset_name)\n",
    "    return dataset_folder_path"
   ],
   "outputs": [],
   "metadata": {}
  },
  {
   "cell_type": "code",
   "execution_count": 173,
   "source": [
    "def summarise_result(result_file_path: str) -> str:\n",
    "    result = pd.read_csv(result_file_path)\n",
    "    print(result)\n",
    "    acc = result['balanced_accuracy_score'].tolist()\n",
    "    print(np.mean(acc), np.std(acc))"
   ],
   "outputs": [],
   "metadata": {}
  },
  {
   "cell_type": "code",
   "execution_count": 174,
   "source": [
    "dataset_name = 'WESAD_WRIST'"
   ],
   "outputs": [],
   "metadata": {}
  },
  {
   "cell_type": "code",
   "execution_count": 175,
   "source": [
    "# model_name = 'random_forest'\n",
    "# model_name = 'svm'\n",
    "model_name = 'knn'"
   ],
   "outputs": [],
   "metadata": {}
  },
  {
   "cell_type": "code",
   "execution_count": 176,
   "source": [
    "scaler_name = 'robustscaler'\n",
    "# scaler_name = 'stdscaler'"
   ],
   "outputs": [],
   "metadata": {}
  },
  {
   "cell_type": "code",
   "execution_count": 177,
   "source": [
    "result_folder_path = get_result_folder_path(dataset_name)"
   ],
   "outputs": [],
   "metadata": {}
  },
  {
   "cell_type": "code",
   "execution_count": 178,
   "source": [
    "general_result_path = osp.join(result_folder_path, 'General')\n",
    "personal_result_path = osp.join(result_folder_path, 'Personal')"
   ],
   "outputs": [],
   "metadata": {}
  },
  {
   "cell_type": "code",
   "execution_count": 179,
   "source": [
    "target_file_name = f'{dataset_name}-{model_name}-eda.csv'\n",
    "result_file_path = osp.join(general_result_path, target_file_name)\n",
    "# summarise_result(result_file_path)"
   ],
   "outputs": [],
   "metadata": {}
  },
  {
   "cell_type": "code",
   "execution_count": 180,
   "source": [
    "target_file_name = f'{dataset_name}-{model_name}-heart.csv'\n",
    "result_file_path = osp.join(general_result_path, target_file_name)\n",
    "# summarise_result(result_file_path)"
   ],
   "outputs": [],
   "metadata": {}
  },
  {
   "cell_type": "code",
   "execution_count": 181,
   "source": [
    "target_file_name = f'{dataset_name}-{model_name}.csv'\n",
    "result_file_path = osp.join(general_result_path, target_file_name)\n",
    "# summarise_result(result_file_path)"
   ],
   "outputs": [],
   "metadata": {}
  },
  {
   "cell_type": "code",
   "execution_count": 182,
   "source": [
    "target_file_name = f'{dataset_name}-{model_name}-customised-scaler.csv'\n",
    "result_file_path = osp.join(general_result_path, target_file_name)\n",
    "summarise_result(result_file_path)"
   ],
   "outputs": [],
   "metadata": {}
  },
  {
   "cell_type": "code",
   "execution_count": null,
   "source": [],
   "outputs": [],
   "metadata": {}
  }
 ],
 "metadata": {
  "orig_nbformat": 4,
  "language_info": {
   "name": "python",
   "version": "3.8.3",
   "mimetype": "text/x-python",
   "codemirror_mode": {
    "name": "ipython",
    "version": 3
   },
   "pygments_lexer": "ipython3",
   "nbconvert_exporter": "python",
   "file_extension": ".py"
  },
  "kernelspec": {
   "name": "python3",
   "display_name": "Python 3.8.3 64-bit ('base': conda)"
  },
  "interpreter": {
   "hash": "a1d5b9100ccb4936a513a4c2e96581413c43726381ca42ceaddfd68a024f20b1"
  }
 },
 "nbformat": 4,
 "nbformat_minor": 2
}