{
 "cells": [
  {
   "cell_type": "code",
   "execution_count": 13,
   "metadata": {},
   "outputs": [],
   "source": [
    "import neurokit2 as nk\r\n",
    "import configparser\r\n",
    "import pickle\r\n",
    "import os\r\n",
    "import os.path as osp\r\n",
    "from collections import defaultdict\r\n",
    "from typing import List\r\n",
    "from tqdm import tqdm"
   ]
  },
  {
   "cell_type": "markdown",
   "metadata": {},
   "source": [
    "# Get WESAD CHEST dataset folder path"
   ]
  },
  {
   "cell_type": "code",
   "execution_count": 2,
   "metadata": {},
   "outputs": [],
   "source": [
    "# Get WESAD Chest folder path\r\n",
    "config_path = osp.join(osp.dirname(os.getcwd()), 'config.ini')\r\n",
    "parser = configparser.ConfigParser()\r\n",
    "parser.read(config_path)\r\n",
    "wesad_dataset_path = parser['DATA_PATH']['wesad_dataset_path'] # Get WESAD dataset path first\r\n",
    "wesad_chest_dataset_path = osp.join(wesad_dataset_path, 'wesad_chest_dataset.pkl')"
   ]
  },
  {
   "cell_type": "code",
   "execution_count": 3,
   "metadata": {},
   "outputs": [],
   "source": [
    "# Load WESAD Chest dataset\r\n",
    "wesad_chest = pickle.load(open(wesad_chest_dataset_path, 'rb'))"
   ]
  },
  {
   "cell_type": "markdown",
   "metadata": {},
   "source": [
    "# Resampling WESAD-CHEST EDA signal"
   ]
  },
  {
   "cell_type": "code",
   "execution_count": 10,
   "metadata": {},
   "outputs": [],
   "source": [
    "def resampling_data_signal(data: List[float], sampling_rate: int, desired_sampling_rate: int, method: str = 'interpolation') -> List[float]:\r\n",
    "    output = nk.signal_resample(data, method = method, sampling_rate = sampling_rate, desired_sampling_rate = desired_sampling_rate)\r\n",
    "    return output"
   ]
  },
  {
   "cell_type": "code",
   "execution_count": 11,
   "metadata": {},
   "outputs": [],
   "source": [
    "# Sampling-rate of WESAD CHEST dataset recorded from clinical device is 700Hz\r\n",
    "WESAD_CHEST_SAMPLING_RATE = 700 \r\n",
    "# Sampling-rate of the desired resampling WESAD CHEST\r\n",
    "WESAD_RESAMPLING_RATE = 4"
   ]
  },
  {
   "cell_type": "code",
   "execution_count": 20,
   "metadata": {},
   "outputs": [
    {
     "name": "stderr",
     "output_type": "stream",
     "text": [
      "100%|██████████| 15/15 [00:02<00:00,  6.46it/s]\n"
     ]
    }
   ],
   "source": [
    "# Start resampling signal data\r\n",
    "eda_data = wesad_chest['eda']\r\n",
    "eda_resampling = defaultdict(dict) \r\n",
    "resampling_ground_truth = defaultdict(dict)\r\n",
    "for user_id, data in tqdm(eda_data.items()):\r\n",
    "    for task_id, eda in data.items():\r\n",
    "        resampled_eda = resampling_data_signal(eda, sampling_rate = WESAD_CHEST_SAMPLING_RATE, desired_sampling_rate = WESAD_RESAMPLING_RATE)\r\n",
    "        eda_resampling[user_id][task_id] = resampled_eda\r\n",
    "        resampling_ground_truth[user_id][task_id] = [list(set(wesad_chest['ground_truth'][user_id][task_id]))[0]] * len(resampled_eda)"
   ]
  },
  {
   "cell_type": "code",
   "execution_count": 21,
   "metadata": {},
   "outputs": [],
   "source": [
    "# Create WESAD Resampling dataset\r\n",
    "wesad_resampling = {\r\n",
    "    'eda': eda_resampling,\r\n",
    "    'ground_truth': resampling_ground_truth,\r\n",
    "}"
   ]
  },
  {
   "cell_type": "code",
   "execution_count": 22,
   "metadata": {},
   "outputs": [],
   "source": [
    "# Save the dataset\r\n",
    "output_file_path = osp.join(wesad_dataset_path, 'wesad_chest_resampling_dataset.pkl')\r\n",
    "pickle.dump(wesad_resampling, open(output_file_path, 'wb'))"
   ]
  }
 ],
 "metadata": {
  "kernelspec": {
   "display_name": "Python 3",
   "language": "python",
   "name": "python3"
  },
  "language_info": {
   "codemirror_mode": {
    "name": "ipython",
    "version": 3
   },
   "file_extension": ".py",
   "mimetype": "text/x-python",
   "name": "python",
   "nbconvert_exporter": "python",
   "pygments_lexer": "ipython3",
   "version": "3.9.1"
  },
  "orig_nbformat": 2
 },
 "nbformat": 4,
 "nbformat_minor": 2
}