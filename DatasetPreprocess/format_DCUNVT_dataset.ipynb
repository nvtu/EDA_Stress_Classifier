{
 "cells": [
  {
   "cell_type": "code",
   "execution_count": 1,
   "metadata": {},
   "outputs": [],
   "source": [
    "import configparser\n",
    "import os\n",
    "import os.path as osp\n",
    "import pandas as pd\n",
    "from collections import defaultdict\n",
    "import pickle\n",
    "from typing import List, Dict\n",
    "from tqdm import tqdm"
   ]
  },
  {
   "cell_type": "markdown",
   "metadata": {},
   "source": [
    "# Initialize data paths\n"
   ]
  },
  {
   "cell_type": "code",
   "execution_count": 2,
   "metadata": {},
   "outputs": [],
   "source": [
    "# Get dataset path\n",
    "config_path = osp.join(osp.abspath(os.pardir), 'config.ini')\n",
    "parser = configparser.ConfigParser()\n",
    "parser.read(config_path)\n",
    "dcu_nvt_dataset_path = parser['DATA_PATH']['dcu_nvt_dataset_path']\n",
    "eda_dataset_path = osp.join(dcu_nvt_dataset_path, 'GSR')\n",
    "\n",
    "# List of user ids\n",
    "user_ids = os.listdir(eda_dataset_path)\n",
    "\n",
    "# Objective ground-truth file path\n",
    "ground_truth_path = osp.join(dcu_nvt_dataset_path, 'Ground-Truth.csv')"
   ]
  },
  {
   "cell_type": "markdown",
   "metadata": {},
   "source": [
    "# Transform dataset into a predefined format"
   ]
  },
  {
   "cell_type": "code",
   "execution_count": 3,
   "metadata": {},
   "outputs": [
    {
     "output_type": "execute_result",
     "data": {
      "text/plain": [
       "                             INSTANCE  LABEL  STRESS_LEVEL  ASSUME_LABEL\n",
       "0     A_Relax_06012020_165451_5Hz.csv      0             0             0\n",
       "1     A_Relax_06012020_170941_5Hz.csv      0             0             0\n",
       "2  A_Task01-1_06012020_163149_5Hz.csv      0             1             1\n",
       "3  A_Task01-2_06012020_163835_5Hz.csv      0             1             1\n",
       "4    A_Task02_06012020 164432_5Hz.csv      1             3             1"
      ],
      "text/html": "<div>\n<style scoped>\n    .dataframe tbody tr th:only-of-type {\n        vertical-align: middle;\n    }\n\n    .dataframe tbody tr th {\n        vertical-align: top;\n    }\n\n    .dataframe thead th {\n        text-align: right;\n    }\n</style>\n<table border=\"1\" class=\"dataframe\">\n  <thead>\n    <tr style=\"text-align: right;\">\n      <th></th>\n      <th>INSTANCE</th>\n      <th>LABEL</th>\n      <th>STRESS_LEVEL</th>\n      <th>ASSUME_LABEL</th>\n    </tr>\n  </thead>\n  <tbody>\n    <tr>\n      <th>0</th>\n      <td>A_Relax_06012020_165451_5Hz.csv</td>\n      <td>0</td>\n      <td>0</td>\n      <td>0</td>\n    </tr>\n    <tr>\n      <th>1</th>\n      <td>A_Relax_06012020_170941_5Hz.csv</td>\n      <td>0</td>\n      <td>0</td>\n      <td>0</td>\n    </tr>\n    <tr>\n      <th>2</th>\n      <td>A_Task01-1_06012020_163149_5Hz.csv</td>\n      <td>0</td>\n      <td>1</td>\n      <td>1</td>\n    </tr>\n    <tr>\n      <th>3</th>\n      <td>A_Task01-2_06012020_163835_5Hz.csv</td>\n      <td>0</td>\n      <td>1</td>\n      <td>1</td>\n    </tr>\n    <tr>\n      <th>4</th>\n      <td>A_Task02_06012020 164432_5Hz.csv</td>\n      <td>1</td>\n      <td>3</td>\n      <td>1</td>\n    </tr>\n  </tbody>\n</table>\n</div>"
     },
     "metadata": {},
     "execution_count": 3
    }
   ],
   "source": [
    "# Load ground-truth\n",
    "ground_truth = pd.read_csv(ground_truth_path)\n",
    "ground_truth.head()"
   ]
  },
  {
   "cell_type": "code",
   "execution_count": 4,
   "metadata": {},
   "outputs": [
    {
     "output_type": "stream",
     "name": "stderr",
     "text": [
      "100%|██████████| 11/11 [00:00<00:00, 26.57it/s]\n"
     ]
    }
   ],
   "source": [
    "# Map the eda data access via Dict[user_id][task_id]\n",
    "eda = defaultdict(dict)\n",
    "for user_id in tqdm(user_ids):\n",
    "    user_data_path = osp.join(eda_dataset_path, user_id)\n",
    "    file_names = sorted(os.listdir(user_data_path), key = lambda file_name: file_name.split('_')[-1]) # Sort the files as order by its name index\n",
    "    for file_name in file_names:\n",
    "        data_file_path = osp.join(user_data_path, file_name)\n",
    "        eda_signal = pd.read_csv(data_file_path)['MICROSIEMENS'].values.tolist() # Load eda signal\n",
    "        task_id = file_name # Task id is also its file name --> This is important to retrieve the ground-truth\n",
    "        eda[user_id][task_id] = eda_signal"
   ]
  },
  {
   "cell_type": "code",
   "execution_count": 5,
   "metadata": {},
   "outputs": [
    {
     "output_type": "stream",
     "name": "stderr",
     "text": [
      "100%|██████████| 11/11 [00:00<00:00, 423.10it/s]\n"
     ]
    }
   ],
   "source": [
    "ground_truth = ground_truth[[\"INSTANCE\", \"LABEL\"]].set_index('INSTANCE') # Set index of the ground-truth file to task_id for retrieval\n",
    "gt = defaultdict(dict)\n",
    "for user_id, data in tqdm(eda.items()):\n",
    "    for task_id, eda_signal in data.items():\n",
    "        task_ground_truth = ground_truth.loc[task_id].values # Get task ground-truth\n",
    "        len_eda_signal = len(eda_signal)\n",
    "        _gt = task_ground_truth.tolist() * len_eda_signal # Duplicate ground-truth to label each eda signal\n",
    "        _gt = [0 if value < 2 else 1 for value in _gt] # Map levels of stress to binary labels of stress or non-stress. Original labels: 0 - Non-stress, 1 - Mild stress, 2 - Stress, 3 - Very stress\n",
    "        gt[user_id][task_id] = _gt"
   ]
  },
  {
   "cell_type": "code",
   "execution_count": 6,
   "metadata": {},
   "outputs": [
    {
     "output_type": "stream",
     "name": "stderr",
     "text": [
      "100%|██████████| 11/11 [00:00<00:00, 784.97it/s]\n"
     ]
    }
   ],
   "source": [
    "# Assert that the ground-truth and the data has no errors\n",
    "for user_id, data in tqdm(eda.items()):\n",
    "    for task_id, eda_signal in data.items():\n",
    "        len_eda_signal = len(eda_signal)\n",
    "        len_gt = len(gt[user_id][task_id])\n",
    "        # Assert the length of the ground-truth == the length of eda signal\n",
    "        if len_eda_signal != len_gt:\n",
    "            print(user_id, task_id, 'Length not equal')\n",
    "            print(len_eda_signal, len_gt)\n",
    "        # Assert if the signal has missing values?\n",
    "        if any(elem is None for elem in eda_signal):\n",
    "            print(user_id, task_id, 'Has None value')"
   ]
  },
  {
   "cell_type": "code",
   "execution_count": 7,
   "metadata": {},
   "outputs": [],
   "source": [
    "# Dump dataset to file\r\n",
    "output_file_path = osp.join(dcu_nvt_dataset_path, 'DCU_NVT_EXP1_dataset.pkl')\r\n",
    "data = { 'eda': eda, 'ground_truth': gt }\r\n",
    "pickle.dump(data, open(output_file_path, 'wb'))"
   ]
  }
 ],
 "metadata": {
  "kernelspec": {
   "display_name": "Python 3",
   "name": "python3",
   "language": "python"
  },
  "language_info": {
   "codemirror_mode": {
    "name": "ipython",
    "version": 3
   },
   "file_extension": ".py",
   "mimetype": "text/x-python",
   "name": "python",
   "nbconvert_exporter": "python",
   "pygments_lexer": "ipython3",
   "version": "3.9.1-final"
  },
  "orig_nbformat": 2
 },
 "nbformat": 4,
 "nbformat_minor": 2
}