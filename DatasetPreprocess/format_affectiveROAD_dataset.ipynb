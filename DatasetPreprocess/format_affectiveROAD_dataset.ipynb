{
 "metadata": {
  "language_info": {
   "codemirror_mode": {
    "name": "ipython",
    "version": 3
   },
   "file_extension": ".py",
   "mimetype": "text/x-python",
   "name": "python",
   "nbconvert_exporter": "python",
   "pygments_lexer": "ipython3",
   "version": "3.7.6-final"
  },
  "orig_nbformat": 2,
  "kernelspec": {
   "name": "python3",
   "display_name": "Python 3"
  }
 },
 "nbformat": 4,
 "nbformat_minor": 2,
 "cells": [
  {
   "cell_type": "code",
   "execution_count": 1,
   "metadata": {},
   "outputs": [],
   "source": [
    "import configparser\n",
    "import os\n",
    "import os.path as osp\n",
    "import pandas as pd\n",
    "from collections import defaultdict\n",
    "import pickle"
   ]
  },
  {
   "source": [
    "# Initialize data paths"
   ],
   "cell_type": "markdown",
   "metadata": {}
  },
  {
   "cell_type": "code",
   "execution_count": 2,
   "metadata": {},
   "outputs": [],
   "source": [
    "# Get dataset path\n",
    "config_path = osp.join(osp.abspath(os.pardir), 'config.ini')\n",
    "parser = configparser.ConfigParser()\n",
    "parser.read(config_path)\n",
    "affectiveROAD_dataset_path = parser['DATA_PATH']['affectiveROAD_dataset_path']\n",
    "\n",
    "# EDA E4 Wearable devices data path (sampling-rate = 4 Hz)\n",
    "e4_folder_path = osp.join(affectiveROAD_dataset_path, 'E4')\n",
    "e4_annot_right_path = osp.join(e4_folder_path, 'Annot_E4_Right.csv')\n",
    "# Get folder name of each users' data\n",
    "user_data_folder = [name for name in os.listdir(e4_folder_path) if osp.isdir(osp.join(e4_folder_path, name))]\n",
    "# List of user ids\n",
    "user_ids = [name.split('-')[-1] for name in user_data_folder]\n",
    "\n",
    "# Subjective ground-truth path\n",
    "subj_metric_path = osp.join(affectiveROAD_dataset_path, 'Subj_metric')\n",
    "# Overall Annotation of subjective metric\n",
    "anno_subj_metric_path = osp.join(subj_metric_path, 'Annot_Subjective_metric.csv')\n",
    "# Map ground-truth file to each user corresponding to $user_ids\n",
    "user_anno_gt_path = [f'SM_{user_id}.csv' for user_id in user_ids]"
   ]
  },
  {
   "source": [
    "# Process dataset to a predefined format"
   ],
   "cell_type": "markdown",
   "metadata": {}
  },
  {
   "cell_type": "code",
   "execution_count": 3,
   "metadata": {},
   "outputs": [
    {
     "output_type": "execute_result",
     "data": {
      "text/plain": [
       "   User_id  Rest_Start  Rest_End  Z_Start  Z_End  City1_Start  City1_End  \\\n",
       "0      NM1         688      4288     4580   5248         5296       6408   \n",
       "1      RY1       10972     14204    14560  15016        15260      16348   \n",
       "2      BK1        3728      7356     7352   8320         8412       9348   \n",
       "3      MT1        2388      5988     6420   7164         7308       9080   \n",
       "4      EK1        2656      6260     6548   7200         7472       9576   \n",
       "5      RY2        2624      6224     7496   8096         8124       9544   \n",
       "6     KSG1        3712      7312     7632   8352         8432       9432   \n",
       "7      NM2        3988      7588     7768   8520         8588      10888   \n",
       "8      AD1        3756      7356     7432   8132         8296       9272   \n",
       "9      GM1        4328      8320     9316   9868        10060      11428   \n",
       "10     SJ1        4936      8804     9056   9576         9764      11504   \n",
       "11     NM3        3892      7492     7532   8164         8292       9692   \n",
       "12     GM2        4288      7932     8236   8800         8848      10968   \n",
       "\n",
       "    Hwy_Start  Hwy_End  City2_Start  ...  City2_Start.1  City2_End.1  \\\n",
       "0        7088     8208         8728  ...          11608        13564   \n",
       "1       16752    17748        18384  ...          21196        23108   \n",
       "2        9864    11076        11420  ...          14040        16240   \n",
       "3        9668    10900        11332  ...          13756        15884   \n",
       "4       10284    11376        11884  ...          14336        16156   \n",
       "5        9992    11056        11472  ...          13928        16032   \n",
       "6        9724    10880        11312  ...          14520        16632   \n",
       "7       11328    12648        12992  ...          15720        17508   \n",
       "8        9752    10816        11188  ...          13432        15412   \n",
       "9       11928    13120        13464  ...          16168        18208   \n",
       "10      11976    13124        13656  ...          16152        18340   \n",
       "11      10272    11644        11892  ...          14452        16864   \n",
       "12      11464    12488        13528  ...          16072        18408   \n",
       "\n",
       "    Hwy_Start.1  Hwy_End.1  City1_Start.1  City1_End.1  Z_Start.1  Z_End.1  \\\n",
       "0         13676      14904          15432        16408      16484    17136   \n",
       "1         23200      24380          24868        25788      25904    26420   \n",
       "2         16356      17476          18392        19252      19340    20296   \n",
       "3         16100      17348          17812        19016      19084    19940   \n",
       "4         16576      17560          18088        19628      19656    20296   \n",
       "5         16164      17264          17672        18852      18888    19584   \n",
       "6         16744      17504          18304        19112      19320    19952   \n",
       "7         17608      18968          19428        20448      20608    21248   \n",
       "8         15520      16632          16952        17632      17752    18748   \n",
       "9         18288      19496          20144        21088      21128    21688   \n",
       "10        18484      19644          20124        21204      21204    22404   \n",
       "11        17064      18172          18848        19912      19988    20616   \n",
       "12        18500      19648          20088        20968      21088    21576   \n",
       "\n",
       "    Rest_Start.1  Rest_End.1  \n",
       "0          17248       20848  \n",
       "1          26532       28532  \n",
       "2          20284       23936  \n",
       "3          20024       23572  \n",
       "4          21452       25216  \n",
       "5          19868       23468  \n",
       "6          20512       24112  \n",
       "7          21648       25248  \n",
       "8          18972       22572  \n",
       "9          22208       25980  \n",
       "10         22520       26120  \n",
       "11         20932       24532  \n",
       "12         21808       25408  \n",
       "\n",
       "[13 rows x 21 columns]"
      ],
      "text/html": "<div>\n<style scoped>\n    .dataframe tbody tr th:only-of-type {\n        vertical-align: middle;\n    }\n\n    .dataframe tbody tr th {\n        vertical-align: top;\n    }\n\n    .dataframe thead th {\n        text-align: right;\n    }\n</style>\n<table border=\"1\" class=\"dataframe\">\n  <thead>\n    <tr style=\"text-align: right;\">\n      <th></th>\n      <th>User_id</th>\n      <th>Rest_Start</th>\n      <th>Rest_End</th>\n      <th>Z_Start</th>\n      <th>Z_End</th>\n      <th>City1_Start</th>\n      <th>City1_End</th>\n      <th>Hwy_Start</th>\n      <th>Hwy_End</th>\n      <th>City2_Start</th>\n      <th>...</th>\n      <th>City2_Start.1</th>\n      <th>City2_End.1</th>\n      <th>Hwy_Start.1</th>\n      <th>Hwy_End.1</th>\n      <th>City1_Start.1</th>\n      <th>City1_End.1</th>\n      <th>Z_Start.1</th>\n      <th>Z_End.1</th>\n      <th>Rest_Start.1</th>\n      <th>Rest_End.1</th>\n    </tr>\n  </thead>\n  <tbody>\n    <tr>\n      <th>0</th>\n      <td>NM1</td>\n      <td>688</td>\n      <td>4288</td>\n      <td>4580</td>\n      <td>5248</td>\n      <td>5296</td>\n      <td>6408</td>\n      <td>7088</td>\n      <td>8208</td>\n      <td>8728</td>\n      <td>...</td>\n      <td>11608</td>\n      <td>13564</td>\n      <td>13676</td>\n      <td>14904</td>\n      <td>15432</td>\n      <td>16408</td>\n      <td>16484</td>\n      <td>17136</td>\n      <td>17248</td>\n      <td>20848</td>\n    </tr>\n    <tr>\n      <th>1</th>\n      <td>RY1</td>\n      <td>10972</td>\n      <td>14204</td>\n      <td>14560</td>\n      <td>15016</td>\n      <td>15260</td>\n      <td>16348</td>\n      <td>16752</td>\n      <td>17748</td>\n      <td>18384</td>\n      <td>...</td>\n      <td>21196</td>\n      <td>23108</td>\n      <td>23200</td>\n      <td>24380</td>\n      <td>24868</td>\n      <td>25788</td>\n      <td>25904</td>\n      <td>26420</td>\n      <td>26532</td>\n      <td>28532</td>\n    </tr>\n    <tr>\n      <th>2</th>\n      <td>BK1</td>\n      <td>3728</td>\n      <td>7356</td>\n      <td>7352</td>\n      <td>8320</td>\n      <td>8412</td>\n      <td>9348</td>\n      <td>9864</td>\n      <td>11076</td>\n      <td>11420</td>\n      <td>...</td>\n      <td>14040</td>\n      <td>16240</td>\n      <td>16356</td>\n      <td>17476</td>\n      <td>18392</td>\n      <td>19252</td>\n      <td>19340</td>\n      <td>20296</td>\n      <td>20284</td>\n      <td>23936</td>\n    </tr>\n    <tr>\n      <th>3</th>\n      <td>MT1</td>\n      <td>2388</td>\n      <td>5988</td>\n      <td>6420</td>\n      <td>7164</td>\n      <td>7308</td>\n      <td>9080</td>\n      <td>9668</td>\n      <td>10900</td>\n      <td>11332</td>\n      <td>...</td>\n      <td>13756</td>\n      <td>15884</td>\n      <td>16100</td>\n      <td>17348</td>\n      <td>17812</td>\n      <td>19016</td>\n      <td>19084</td>\n      <td>19940</td>\n      <td>20024</td>\n      <td>23572</td>\n    </tr>\n    <tr>\n      <th>4</th>\n      <td>EK1</td>\n      <td>2656</td>\n      <td>6260</td>\n      <td>6548</td>\n      <td>7200</td>\n      <td>7472</td>\n      <td>9576</td>\n      <td>10284</td>\n      <td>11376</td>\n      <td>11884</td>\n      <td>...</td>\n      <td>14336</td>\n      <td>16156</td>\n      <td>16576</td>\n      <td>17560</td>\n      <td>18088</td>\n      <td>19628</td>\n      <td>19656</td>\n      <td>20296</td>\n      <td>21452</td>\n      <td>25216</td>\n    </tr>\n    <tr>\n      <th>5</th>\n      <td>RY2</td>\n      <td>2624</td>\n      <td>6224</td>\n      <td>7496</td>\n      <td>8096</td>\n      <td>8124</td>\n      <td>9544</td>\n      <td>9992</td>\n      <td>11056</td>\n      <td>11472</td>\n      <td>...</td>\n      <td>13928</td>\n      <td>16032</td>\n      <td>16164</td>\n      <td>17264</td>\n      <td>17672</td>\n      <td>18852</td>\n      <td>18888</td>\n      <td>19584</td>\n      <td>19868</td>\n      <td>23468</td>\n    </tr>\n    <tr>\n      <th>6</th>\n      <td>KSG1</td>\n      <td>3712</td>\n      <td>7312</td>\n      <td>7632</td>\n      <td>8352</td>\n      <td>8432</td>\n      <td>9432</td>\n      <td>9724</td>\n      <td>10880</td>\n      <td>11312</td>\n      <td>...</td>\n      <td>14520</td>\n      <td>16632</td>\n      <td>16744</td>\n      <td>17504</td>\n      <td>18304</td>\n      <td>19112</td>\n      <td>19320</td>\n      <td>19952</td>\n      <td>20512</td>\n      <td>24112</td>\n    </tr>\n    <tr>\n      <th>7</th>\n      <td>NM2</td>\n      <td>3988</td>\n      <td>7588</td>\n      <td>7768</td>\n      <td>8520</td>\n      <td>8588</td>\n      <td>10888</td>\n      <td>11328</td>\n      <td>12648</td>\n      <td>12992</td>\n      <td>...</td>\n      <td>15720</td>\n      <td>17508</td>\n      <td>17608</td>\n      <td>18968</td>\n      <td>19428</td>\n      <td>20448</td>\n      <td>20608</td>\n      <td>21248</td>\n      <td>21648</td>\n      <td>25248</td>\n    </tr>\n    <tr>\n      <th>8</th>\n      <td>AD1</td>\n      <td>3756</td>\n      <td>7356</td>\n      <td>7432</td>\n      <td>8132</td>\n      <td>8296</td>\n      <td>9272</td>\n      <td>9752</td>\n      <td>10816</td>\n      <td>11188</td>\n      <td>...</td>\n      <td>13432</td>\n      <td>15412</td>\n      <td>15520</td>\n      <td>16632</td>\n      <td>16952</td>\n      <td>17632</td>\n      <td>17752</td>\n      <td>18748</td>\n      <td>18972</td>\n      <td>22572</td>\n    </tr>\n    <tr>\n      <th>9</th>\n      <td>GM1</td>\n      <td>4328</td>\n      <td>8320</td>\n      <td>9316</td>\n      <td>9868</td>\n      <td>10060</td>\n      <td>11428</td>\n      <td>11928</td>\n      <td>13120</td>\n      <td>13464</td>\n      <td>...</td>\n      <td>16168</td>\n      <td>18208</td>\n      <td>18288</td>\n      <td>19496</td>\n      <td>20144</td>\n      <td>21088</td>\n      <td>21128</td>\n      <td>21688</td>\n      <td>22208</td>\n      <td>25980</td>\n    </tr>\n    <tr>\n      <th>10</th>\n      <td>SJ1</td>\n      <td>4936</td>\n      <td>8804</td>\n      <td>9056</td>\n      <td>9576</td>\n      <td>9764</td>\n      <td>11504</td>\n      <td>11976</td>\n      <td>13124</td>\n      <td>13656</td>\n      <td>...</td>\n      <td>16152</td>\n      <td>18340</td>\n      <td>18484</td>\n      <td>19644</td>\n      <td>20124</td>\n      <td>21204</td>\n      <td>21204</td>\n      <td>22404</td>\n      <td>22520</td>\n      <td>26120</td>\n    </tr>\n    <tr>\n      <th>11</th>\n      <td>NM3</td>\n      <td>3892</td>\n      <td>7492</td>\n      <td>7532</td>\n      <td>8164</td>\n      <td>8292</td>\n      <td>9692</td>\n      <td>10272</td>\n      <td>11644</td>\n      <td>11892</td>\n      <td>...</td>\n      <td>14452</td>\n      <td>16864</td>\n      <td>17064</td>\n      <td>18172</td>\n      <td>18848</td>\n      <td>19912</td>\n      <td>19988</td>\n      <td>20616</td>\n      <td>20932</td>\n      <td>24532</td>\n    </tr>\n    <tr>\n      <th>12</th>\n      <td>GM2</td>\n      <td>4288</td>\n      <td>7932</td>\n      <td>8236</td>\n      <td>8800</td>\n      <td>8848</td>\n      <td>10968</td>\n      <td>11464</td>\n      <td>12488</td>\n      <td>13528</td>\n      <td>...</td>\n      <td>16072</td>\n      <td>18408</td>\n      <td>18500</td>\n      <td>19648</td>\n      <td>20088</td>\n      <td>20968</td>\n      <td>21088</td>\n      <td>21576</td>\n      <td>21808</td>\n      <td>25408</td>\n    </tr>\n  </tbody>\n</table>\n<p>13 rows × 21 columns</p>\n</div>"
     },
     "metadata": {},
     "execution_count": 3
    }
   ],
   "source": [
    "# Load e4_right annotation\n",
    "e4_annot_right = pd.read_csv(e4_annot_right_path, sep=';')\n",
    "e4_annot_right\n"
   ]
  },
  {
   "cell_type": "code",
   "execution_count": 4,
   "metadata": {},
   "outputs": [
    {
     "output_type": "execute_result",
     "data": {
      "text/plain": [
       "   User_id  Z_Start  Z_End  City1_Start  City1_End  Hwy_Start  Hwy_End  \\\n",
       "0      NM1        1    576          624       1736       2416     3536   \n",
       "1      RY1        1    252          496       1584       1988     2984   \n",
       "2      BK1        1    612          704       1640       2156     3368   \n",
       "3      MT1        1    544          688       2460       3048     4280   \n",
       "4      EK1        1    468          740       2844       3552     4644   \n",
       "5      RY2        1    140          168       1588       2036     3100   \n",
       "6     KSG1        1    316          396       1396       1688     2844   \n",
       "7      NM2        1    360          428       2728       3168     4488   \n",
       "8      AD1        1    448          612       1588       2068     3132   \n",
       "9      GM1      128    680          872       2240       2740     3932   \n",
       "10     SJ1     5124   5644         5832       7572       8044     9192   \n",
       "11     NM3     5488   6120         6248       7648       8228     9600   \n",
       "12     GM2     5548   6112         6160       8280       8776     9800   \n",
       "\n",
       "    City2_Start  City2_End  City2_Start.1  City2_End.1  Hwy_Start.1  \\\n",
       "0          4056       6628           6936         8892         9004   \n",
       "1          3620       6008           6432         8344         8436   \n",
       "2          3712       5872           6332         8532         8648   \n",
       "3          4712       6740           7136         9264         9480   \n",
       "4          5152       7284           7604         9424         9844   \n",
       "5          3516       5628           5972         8076         8208   \n",
       "6          3276       5836           6484         8596         8708   \n",
       "7          4832       6944           7560         9348         9448   \n",
       "8          3504       5348           5748         7728         7836   \n",
       "9          4276       6580           6980         9020         9100   \n",
       "10         9724      11832          12220        14408        14552   \n",
       "11         9848      12096          12408        14820        15020   \n",
       "12        10840      12844          13384        15720        15812   \n",
       "\n",
       "    Hwy_End.1  City1_Start.1  City1_End.1  Z_Start.1  Z_End.1  \n",
       "0       10232          10760        11736      11812    12464  \n",
       "1        9616          10104        11024      11140    11656  \n",
       "2        9768          10684        11544      11632    12588  \n",
       "3       10728          11192        12396      12464    13320  \n",
       "4       10828          11356        12896      12924    13564  \n",
       "5        9308           9716        10896      10932    11628  \n",
       "6        9468          10268        11076      11284    11916  \n",
       "7       10808          11268        12288      12448    13088  \n",
       "8        8948           9268         9948      10068    11064  \n",
       "9       10308          10956        11900      11940    12500  \n",
       "10      15712          16192        17272      17272    18472  \n",
       "11      16128          16804        17868      17944    18572  \n",
       "12      16960          17400        18280      18400    18888  "
      ],
      "text/html": "<div>\n<style scoped>\n    .dataframe tbody tr th:only-of-type {\n        vertical-align: middle;\n    }\n\n    .dataframe tbody tr th {\n        vertical-align: top;\n    }\n\n    .dataframe thead th {\n        text-align: right;\n    }\n</style>\n<table border=\"1\" class=\"dataframe\">\n  <thead>\n    <tr style=\"text-align: right;\">\n      <th></th>\n      <th>User_id</th>\n      <th>Z_Start</th>\n      <th>Z_End</th>\n      <th>City1_Start</th>\n      <th>City1_End</th>\n      <th>Hwy_Start</th>\n      <th>Hwy_End</th>\n      <th>City2_Start</th>\n      <th>City2_End</th>\n      <th>City2_Start.1</th>\n      <th>City2_End.1</th>\n      <th>Hwy_Start.1</th>\n      <th>Hwy_End.1</th>\n      <th>City1_Start.1</th>\n      <th>City1_End.1</th>\n      <th>Z_Start.1</th>\n      <th>Z_End.1</th>\n    </tr>\n  </thead>\n  <tbody>\n    <tr>\n      <th>0</th>\n      <td>NM1</td>\n      <td>1</td>\n      <td>576</td>\n      <td>624</td>\n      <td>1736</td>\n      <td>2416</td>\n      <td>3536</td>\n      <td>4056</td>\n      <td>6628</td>\n      <td>6936</td>\n      <td>8892</td>\n      <td>9004</td>\n      <td>10232</td>\n      <td>10760</td>\n      <td>11736</td>\n      <td>11812</td>\n      <td>12464</td>\n    </tr>\n    <tr>\n      <th>1</th>\n      <td>RY1</td>\n      <td>1</td>\n      <td>252</td>\n      <td>496</td>\n      <td>1584</td>\n      <td>1988</td>\n      <td>2984</td>\n      <td>3620</td>\n      <td>6008</td>\n      <td>6432</td>\n      <td>8344</td>\n      <td>8436</td>\n      <td>9616</td>\n      <td>10104</td>\n      <td>11024</td>\n      <td>11140</td>\n      <td>11656</td>\n    </tr>\n    <tr>\n      <th>2</th>\n      <td>BK1</td>\n      <td>1</td>\n      <td>612</td>\n      <td>704</td>\n      <td>1640</td>\n      <td>2156</td>\n      <td>3368</td>\n      <td>3712</td>\n      <td>5872</td>\n      <td>6332</td>\n      <td>8532</td>\n      <td>8648</td>\n      <td>9768</td>\n      <td>10684</td>\n      <td>11544</td>\n      <td>11632</td>\n      <td>12588</td>\n    </tr>\n    <tr>\n      <th>3</th>\n      <td>MT1</td>\n      <td>1</td>\n      <td>544</td>\n      <td>688</td>\n      <td>2460</td>\n      <td>3048</td>\n      <td>4280</td>\n      <td>4712</td>\n      <td>6740</td>\n      <td>7136</td>\n      <td>9264</td>\n      <td>9480</td>\n      <td>10728</td>\n      <td>11192</td>\n      <td>12396</td>\n      <td>12464</td>\n      <td>13320</td>\n    </tr>\n    <tr>\n      <th>4</th>\n      <td>EK1</td>\n      <td>1</td>\n      <td>468</td>\n      <td>740</td>\n      <td>2844</td>\n      <td>3552</td>\n      <td>4644</td>\n      <td>5152</td>\n      <td>7284</td>\n      <td>7604</td>\n      <td>9424</td>\n      <td>9844</td>\n      <td>10828</td>\n      <td>11356</td>\n      <td>12896</td>\n      <td>12924</td>\n      <td>13564</td>\n    </tr>\n    <tr>\n      <th>5</th>\n      <td>RY2</td>\n      <td>1</td>\n      <td>140</td>\n      <td>168</td>\n      <td>1588</td>\n      <td>2036</td>\n      <td>3100</td>\n      <td>3516</td>\n      <td>5628</td>\n      <td>5972</td>\n      <td>8076</td>\n      <td>8208</td>\n      <td>9308</td>\n      <td>9716</td>\n      <td>10896</td>\n      <td>10932</td>\n      <td>11628</td>\n    </tr>\n    <tr>\n      <th>6</th>\n      <td>KSG1</td>\n      <td>1</td>\n      <td>316</td>\n      <td>396</td>\n      <td>1396</td>\n      <td>1688</td>\n      <td>2844</td>\n      <td>3276</td>\n      <td>5836</td>\n      <td>6484</td>\n      <td>8596</td>\n      <td>8708</td>\n      <td>9468</td>\n      <td>10268</td>\n      <td>11076</td>\n      <td>11284</td>\n      <td>11916</td>\n    </tr>\n    <tr>\n      <th>7</th>\n      <td>NM2</td>\n      <td>1</td>\n      <td>360</td>\n      <td>428</td>\n      <td>2728</td>\n      <td>3168</td>\n      <td>4488</td>\n      <td>4832</td>\n      <td>6944</td>\n      <td>7560</td>\n      <td>9348</td>\n      <td>9448</td>\n      <td>10808</td>\n      <td>11268</td>\n      <td>12288</td>\n      <td>12448</td>\n      <td>13088</td>\n    </tr>\n    <tr>\n      <th>8</th>\n      <td>AD1</td>\n      <td>1</td>\n      <td>448</td>\n      <td>612</td>\n      <td>1588</td>\n      <td>2068</td>\n      <td>3132</td>\n      <td>3504</td>\n      <td>5348</td>\n      <td>5748</td>\n      <td>7728</td>\n      <td>7836</td>\n      <td>8948</td>\n      <td>9268</td>\n      <td>9948</td>\n      <td>10068</td>\n      <td>11064</td>\n    </tr>\n    <tr>\n      <th>9</th>\n      <td>GM1</td>\n      <td>128</td>\n      <td>680</td>\n      <td>872</td>\n      <td>2240</td>\n      <td>2740</td>\n      <td>3932</td>\n      <td>4276</td>\n      <td>6580</td>\n      <td>6980</td>\n      <td>9020</td>\n      <td>9100</td>\n      <td>10308</td>\n      <td>10956</td>\n      <td>11900</td>\n      <td>11940</td>\n      <td>12500</td>\n    </tr>\n    <tr>\n      <th>10</th>\n      <td>SJ1</td>\n      <td>5124</td>\n      <td>5644</td>\n      <td>5832</td>\n      <td>7572</td>\n      <td>8044</td>\n      <td>9192</td>\n      <td>9724</td>\n      <td>11832</td>\n      <td>12220</td>\n      <td>14408</td>\n      <td>14552</td>\n      <td>15712</td>\n      <td>16192</td>\n      <td>17272</td>\n      <td>17272</td>\n      <td>18472</td>\n    </tr>\n    <tr>\n      <th>11</th>\n      <td>NM3</td>\n      <td>5488</td>\n      <td>6120</td>\n      <td>6248</td>\n      <td>7648</td>\n      <td>8228</td>\n      <td>9600</td>\n      <td>9848</td>\n      <td>12096</td>\n      <td>12408</td>\n      <td>14820</td>\n      <td>15020</td>\n      <td>16128</td>\n      <td>16804</td>\n      <td>17868</td>\n      <td>17944</td>\n      <td>18572</td>\n    </tr>\n    <tr>\n      <th>12</th>\n      <td>GM2</td>\n      <td>5548</td>\n      <td>6112</td>\n      <td>6160</td>\n      <td>8280</td>\n      <td>8776</td>\n      <td>9800</td>\n      <td>10840</td>\n      <td>12844</td>\n      <td>13384</td>\n      <td>15720</td>\n      <td>15812</td>\n      <td>16960</td>\n      <td>17400</td>\n      <td>18280</td>\n      <td>18400</td>\n      <td>18888</td>\n    </tr>\n  </tbody>\n</table>\n</div>"
     },
     "metadata": {},
     "execution_count": 4
    }
   ],
   "source": [
    "# Load subjective metric annotation\n",
    "subj_metric_anno = pd.read_csv(anno_subj_metric_path, sep=';')\n",
    "subj_metric_anno"
   ]
  },
  {
   "cell_type": "code",
   "execution_count": 5,
   "metadata": {},
   "outputs": [],
   "source": [
    "# Format EDA signal into a predefined format: Dictionary[user_id][route]\n",
    "eda = defaultdict(dict)\n",
    "headers = e4_annot_right.columns\n",
    "num_routes = (len(headers) - 1) >> 1\n",
    "for user_index, row in enumerate(e4_annot_right.values):\n",
    "    user_id = row[0]\n",
    "    # Load e4 eda data of $user_id\n",
    "    user_eda_path = osp.join(e4_folder_path, user_data_folder[user_index], 'EDA.csv')\n",
    "    eda_signal = [float(line.rstrip()) for line in open(user_eda_path, 'r').readlines()][2:] # Remove first and second row as it contains metadata of the signal\n",
    "    for _iter in range(num_routes):\n",
    "        index = (_iter << 1) + 1\n",
    "        route_name = headers[index].split('_')[0]\n",
    "        if route_name != 'Z':\n",
    "            start_index, end_index = row[index:index+2]\n",
    "            if route_name in eda[user_id].keys():\n",
    "                route_name += '_Return' # Return phase\n",
    "            eda[user_id][route_name] = eda_signal[start_index:end_index]"
   ]
  },
  {
   "cell_type": "code",
   "execution_count": 6,
   "metadata": {
    "tags": []
   },
   "outputs": [],
   "source": [
    "# Format ground-truth into a predefined format: Dictionary[user_id][route]\n",
    "ground_truth = defaultdict(dict)\n",
    "headers = subj_metric_anno.columns\n",
    "num_routes = (len(headers) - 1) >> 1\n",
    "for user_index, row in enumerate(subj_metric_anno.values):\n",
    "    user_id = row[0]\n",
    "    # Load ground-truth of $user_id\n",
    "    user_gt_path = osp.join(subj_metric_path, user_anno_gt_path[user_index])\n",
    "    user_gt_anno = [line.rstrip() for line in open(user_gt_path, 'r').readlines()][1:] # Remove first row as it contains metadata of the signal\n",
    "    user_gt_anno = list(map(float, user_gt_anno))\n",
    "    for _iter in range(num_routes):\n",
    "        index = (_iter << 1) + 1\n",
    "        route_name = headers[index].split('_')[0]\n",
    "        if route_name != 'Z':\n",
    "            start_index, end_index = row[index:index+2]\n",
    "            if route_name in ground_truth[user_id].keys():\n",
    "                route_name += '_Return' # Return phase\n",
    "            ground_truth[user_id][route_name] = user_gt_anno[start_index:end_index]\n",
    "            \n",
    "\n",
    "# Add ground-truth for Rest parts\n",
    "for user_id in user_ids:\n",
    "    ground_truth[user_id]['Rest'] = [0 for _ in range(len(eda[user_id]['Rest']))]\n",
    "    ground_truth[user_id]['Rest_Return'] = [0 for _ in range(len(eda[user_id]['Rest_Return']))]\n",
    "\n",
    "\n",
    "THRESHOLD = 0.4 # Threshold to determine if the label is stress or not as the ground-truth is continuous value\n",
    "# Siirtola P, Röning J. Comparison of Regression and Classification Models for User-Independent and Personal Stress Detection. Sensors (Basel). 2020 Aug 7;20(16):4402. doi: 10.3390/s20164402. PMID: 32784547; PMCID: PMC7472084.\n",
    "for user_id in user_ids:\n",
    "    route_names = ground_truth[user_id].keys()\n",
    "    for route_name in route_names:\n",
    "        ground_truth[user_id][route_name] = [0 if value < THRESHOLD else 1 for value in ground_truth[user_id][route_name]]\n"
   ]
  },
  {
   "cell_type": "code",
   "execution_count": 7,
   "metadata": {},
   "outputs": [],
   "source": [
    "# Assert the length of the ground-truth and the eda signal\n",
    "for user_id in user_ids:\n",
    "    route_names = ground_truth[user_id].keys()\n",
    "    for route_name in route_names:\n",
    "        eda_duration = len(eda[user_id][route_name])\n",
    "        gt_duration = len(ground_truth[user_id][route_name])\n",
    "        if eda_duration != gt_duration:\n",
    "            print(user_id, route_name)\n",
    "            print(eda_duration, gt_duration)"
   ]
  },
  {
   "cell_type": "code",
   "execution_count": 9,
   "metadata": {},
   "outputs": [],
   "source": [
    "data = { 'eda': eda, 'ground_truth': ground_truth }\n",
    "output_file_path = osp.join(affectiveROAD_dataset_path, 'affectiveROAD_dataset.pkl')\n",
    "pickle.dump(data, open(output_file_path, 'wb'))\n"
   ]
  },
  {
   "cell_type": "code",
   "execution_count": null,
   "metadata": {},
   "outputs": [],
   "source": []
  }
 ]
}