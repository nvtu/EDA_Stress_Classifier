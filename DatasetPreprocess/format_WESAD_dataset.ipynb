{
 "cells": [
  {
   "cell_type": "code",
   "execution_count": 1,
   "source": [
    "import configparser\n",
    "import os\n",
    "import os.path as osp\n",
    "import pandas as pd\n",
    "from collections import defaultdict\n",
    "import pickle\n",
    "from typing import List, Dict\n",
    "from tqdm import tqdm"
   ],
   "outputs": [],
   "metadata": {}
  },
  {
   "cell_type": "markdown",
   "source": [
    "# Initialize data paths\n"
   ],
   "metadata": {}
  },
  {
   "cell_type": "code",
   "execution_count": 2,
   "source": [
    "# Get dataset path\n",
    "config_path = osp.join(osp.abspath(os.pardir), 'config.ini')\n",
    "parser = configparser.ConfigParser()\n",
    "parser.read(config_path)\n",
    "wesad_dataset_path = parser['DATA_PATH']['wesad_dataset_path']\n",
    "eda_wesad_chest_dataset_path = osp.join(wesad_dataset_path, 'WESAD_CHEST_EDA')\n",
    "eda_wesad_wrist_dataset_path = osp.join(wesad_dataset_path, 'WESAD_WRIST_EDA')\n",
    "bvp_wesad_chest_dataset_path = osp.join(wesad_dataset_path, 'WESAD_CHEST_ECG')\n",
    "bvp_wesad_wrist_dataset_path = osp.join(wesad_dataset_path, 'WESAD_WRIST_BVP')\n",
    "\n",
    "# List of user ids\n",
    "user_ids = os.listdir(eda_wesad_chest_dataset_path)\n",
    "\n",
    "# Objective ground-truth file path\n",
    "ground_truth_path = osp.join(wesad_dataset_path, 'WESAD-Ground-Truth.csv')"
   ],
   "outputs": [],
   "metadata": {}
  },
  {
   "cell_type": "markdown",
   "source": [
    "# Transform dataset into a predefined format"
   ],
   "metadata": {}
  },
  {
   "cell_type": "code",
   "execution_count": 3,
   "source": [
    "# Load ground-truth\n",
    "ground_truth = pd.read_csv(ground_truth_path)\n",
    "ground_truth.head()"
   ],
   "outputs": [
    {
     "output_type": "execute_result",
     "data": {
      "text/html": [
       "<div>\n",
       "<style scoped>\n",
       "    .dataframe tbody tr th:only-of-type {\n",
       "        vertical-align: middle;\n",
       "    }\n",
       "\n",
       "    .dataframe tbody tr th {\n",
       "        vertical-align: top;\n",
       "    }\n",
       "\n",
       "    .dataframe thead th {\n",
       "        text-align: right;\n",
       "    }\n",
       "</style>\n",
       "<table border=\"1\" class=\"dataframe\">\n",
       "  <thead>\n",
       "    <tr style=\"text-align: right;\">\n",
       "      <th></th>\n",
       "      <th>INSTANCE</th>\n",
       "      <th>LABEL</th>\n",
       "    </tr>\n",
       "  </thead>\n",
       "  <tbody>\n",
       "    <tr>\n",
       "      <th>0</th>\n",
       "      <td>S10_baseline_1.csv</td>\n",
       "      <td>0</td>\n",
       "    </tr>\n",
       "    <tr>\n",
       "      <th>1</th>\n",
       "      <td>S10_amusement_2.csv</td>\n",
       "      <td>0</td>\n",
       "    </tr>\n",
       "    <tr>\n",
       "      <th>2</th>\n",
       "      <td>S10_meditation_3.csv</td>\n",
       "      <td>0</td>\n",
       "    </tr>\n",
       "    <tr>\n",
       "      <th>3</th>\n",
       "      <td>S10_stress_4.csv</td>\n",
       "      <td>1</td>\n",
       "    </tr>\n",
       "    <tr>\n",
       "      <th>4</th>\n",
       "      <td>S10_meditation_5.csv</td>\n",
       "      <td>0</td>\n",
       "    </tr>\n",
       "  </tbody>\n",
       "</table>\n",
       "</div>"
      ],
      "text/plain": [
       "               INSTANCE  LABEL\n",
       "0    S10_baseline_1.csv      0\n",
       "1   S10_amusement_2.csv      0\n",
       "2  S10_meditation_3.csv      0\n",
       "3      S10_stress_4.csv      1\n",
       "4  S10_meditation_5.csv      0"
      ]
     },
     "metadata": {},
     "execution_count": 3
    }
   ],
   "metadata": {}
  },
  {
   "cell_type": "markdown",
   "source": [
    "## Define function to load data, map data ground-truth, and finally check the integrity of the data"
   ],
   "metadata": {}
  },
  {
   "cell_type": "code",
   "execution_count": 4,
   "source": [
    "def load_dataset(dataset_path: str, user_ids: List[str]) -> Dict[str, Dict[str, List[float]]]:\n",
    "    signal = defaultdict(dict)\n",
    "    for user_id in tqdm(user_ids):\n",
    "        user_data_path = osp.join(dataset_path, user_id)\n",
    "        file_names = sorted(os.listdir(user_data_path), key = lambda file_name: file_name.split('_')[-1]) # Sort the files as order by its name index\n",
    "        for file_name in file_names:\n",
    "            data_file_path = osp.join(user_data_path, file_name)\n",
    "            _signal = [line.rstrip() for line in open(data_file_path, 'r').readlines()][1:] # Load data and remove the first row of its as it is the header\n",
    "            _signal = list(map(float, _signal))\n",
    "            task_id = file_name # Task id is also its file name --> This is important to retrieve the ground-truth\n",
    "            signal[user_id][task_id] = _signal\n",
    "    return signal"
   ],
   "outputs": [],
   "metadata": {}
  },
  {
   "cell_type": "code",
   "execution_count": 5,
   "source": [
    "def map_data_groundtruth(dataset: Dict[str, Dict[str, List[float]]], ground_truth: pd.DataFrame) -> Dict[str, Dict[str, List[int]]]:\n",
    "    ground_truth = ground_truth.set_index('INSTANCE') # Set index of the ground-truth file to task_id for retrieval\n",
    "    gt = defaultdict(dict)\n",
    "    for user_id, data in tqdm(dataset.items()):\n",
    "        for task_id, eda_signal in data.items():\n",
    "            task_ground_truth = ground_truth.loc[task_id].values # Get task ground-truth\n",
    "            len_eda_signal = len(eda_signal)\n",
    "            gt[user_id][task_id] = task_ground_truth.tolist() * len_eda_signal # Duplicate ground-truth to label each eda signal\n",
    "    return gt"
   ],
   "outputs": [],
   "metadata": {}
  },
  {
   "cell_type": "code",
   "execution_count": 6,
   "source": [
    "def data_assertion(dataset: Dict[str, Dict[str, List[float]]], ground_truth: Dict[str, Dict[str, List[int]]]):\n",
    "    for user_id, data in tqdm(dataset.items()):\n",
    "        for task_id, eda_signal in data.items():\n",
    "            len_eda_signal = len(eda_signal)\n",
    "            len_gt = len(ground_truth[user_id][task_id])\n",
    "            # Assert the length of the ground-truth == the length of eda signal\n",
    "            if len_eda_signal != len_gt:\n",
    "                print(user_id, task_id, 'Length not equal')\n",
    "                print(len_eda_signal, len_gt)\n",
    "            # Assert if the signal has missing values?\n",
    "            if any(elem is None for elem in eda_signal):\n",
    "                print(user_id, task_id, 'Has None value')"
   ],
   "outputs": [],
   "metadata": {}
  },
  {
   "cell_type": "code",
   "execution_count": 7,
   "source": [
    "def dump_dataset_pickle(eda: Dict[str, Dict[str, List[float]]], bvp: Dict[str, Dict[str, List[float]]], ground_truth: Dict[str, Dict[str, List[int]]], file_path: str):\n",
    "    data = { 'eda': eda, 'bvp': bvp, 'ground_truth': ground_truth }\n",
    "    pickle.dump(data, open(file_path, 'wb'))"
   ],
   "outputs": [],
   "metadata": {}
  },
  {
   "cell_type": "markdown",
   "source": [
    "## Load WESAD_CHEST data"
   ],
   "metadata": {}
  },
  {
   "cell_type": "code",
   "execution_count": 8,
   "source": [
    "# Load eda data and its ground-truth\n",
    "print(\"Load EDA_CHEST data...\")\n",
    "eda_wesad_chest = load_dataset(eda_wesad_chest_dataset_path, user_ids)\n",
    "ecg_wesad_chest = load_dataset(bvp_wesad_chest_dataset_path, user_ids)\n",
    "\n",
    "print(\"Map ground-truth to each data signal\")\n",
    "gt_wesad_chest = map_data_groundtruth(eda_wesad_chest, ground_truth)"
   ],
   "outputs": [
    {
     "output_type": "stream",
     "name": "stderr",
     "text": [
      "  0%|          | 0/15 [00:00<?, ?it/s]"
     ]
    },
    {
     "output_type": "stream",
     "name": "stdout",
     "text": [
      "Load EDA_CHEST data...\n"
     ]
    },
    {
     "output_type": "stream",
     "name": "stderr",
     "text": [
      "100%|██████████| 15/15 [00:10<00:00,  1.46it/s]\n",
      "100%|██████████| 15/15 [00:08<00:00,  1.85it/s]\n",
      "100%|██████████| 15/15 [00:00<00:00, 247.61it/s]"
     ]
    },
    {
     "output_type": "stream",
     "name": "stdout",
     "text": [
      "Map ground-truth to each data signal\n"
     ]
    },
    {
     "output_type": "stream",
     "name": "stderr",
     "text": [
      "\n"
     ]
    }
   ],
   "metadata": {
    "tags": []
   }
  },
  {
   "cell_type": "code",
   "execution_count": 9,
   "source": [
    "# Assert that the data is correct\n",
    "data_assertion(eda_wesad_chest, gt_wesad_chest)"
   ],
   "outputs": [
    {
     "output_type": "stream",
     "name": "stderr",
     "text": [
      "100%|██████████| 15/15 [00:00<00:00, 18.54it/s]\n"
     ]
    }
   ],
   "metadata": {}
  },
  {
   "cell_type": "code",
   "execution_count": 10,
   "source": [
    "# Save dataset\n",
    "output_file_path = osp.join(wesad_dataset_path, 'wesad_chest_dataset.pkl')\n",
    "dump_dataset_pickle(eda_wesad_chest, ecg_wesad_chest, gt_wesad_chest, output_file_path)"
   ],
   "outputs": [],
   "metadata": {}
  },
  {
   "cell_type": "markdown",
   "source": [
    "## Load WESAD_WRIST data"
   ],
   "metadata": {}
  },
  {
   "cell_type": "code",
   "execution_count": 11,
   "source": [
    "# Load eda data and its ground-truth\n",
    "print(\"Load EDA_WRIST data...\")\n",
    "eda_wesad_wrist = load_dataset(eda_wesad_wrist_dataset_path, user_ids)\n",
    "bvp_wesad_wrist = load_dataset(bvp_wesad_wrist_dataset_path, user_ids)\n",
    "\n",
    "print(\"Map ground-truth to each data signal\")\n",
    "gt_wesad_wrist = map_data_groundtruth(eda_wesad_wrist, ground_truth)"
   ],
   "outputs": [
    {
     "output_type": "stream",
     "name": "stderr",
     "text": [
      "100%|██████████| 15/15 [00:00<00:00, 186.62it/s]\n",
      "  0%|          | 0/15 [00:00<?, ?it/s]"
     ]
    },
    {
     "output_type": "stream",
     "name": "stdout",
     "text": [
      "Load EDA_WRIST data...\n"
     ]
    },
    {
     "output_type": "stream",
     "name": "stderr",
     "text": [
      "100%|██████████| 15/15 [00:00<00:00, 28.26it/s]\n",
      "100%|██████████| 15/15 [00:00<00:00, 2523.65it/s]"
     ]
    },
    {
     "output_type": "stream",
     "name": "stdout",
     "text": [
      "Map ground-truth to each data signal\n"
     ]
    },
    {
     "output_type": "stream",
     "name": "stderr",
     "text": [
      "\n"
     ]
    }
   ],
   "metadata": {}
  },
  {
   "cell_type": "code",
   "execution_count": 12,
   "source": [
    "# Assert that the data is correct\n",
    "data_assertion(eda_wesad_wrist, gt_wesad_wrist)"
   ],
   "outputs": [
    {
     "output_type": "stream",
     "name": "stderr",
     "text": [
      "100%|██████████| 15/15 [00:00<00:00, 2222.97it/s]\n"
     ]
    }
   ],
   "metadata": {}
  },
  {
   "cell_type": "code",
   "execution_count": 13,
   "source": [
    "# Save dataset\n",
    "output_file_path = osp.join(wesad_dataset_path, 'wesad_wrist_dataset.pkl')\n",
    "dump_dataset_pickle(eda_wesad_wrist, bvp_wesad_wrist, gt_wesad_wrist, output_file_path)"
   ],
   "outputs": [],
   "metadata": {}
  },
  {
   "cell_type": "code",
   "execution_count": null,
   "source": [],
   "outputs": [],
   "metadata": {}
  }
 ],
 "metadata": {
  "kernelspec": {
   "name": "python3",
   "display_name": "Python 3.8.3 64-bit ('base': conda)"
  },
  "language_info": {
   "codemirror_mode": {
    "name": "ipython",
    "version": 3
   },
   "file_extension": ".py",
   "mimetype": "text/x-python",
   "name": "python",
   "nbconvert_exporter": "python",
   "pygments_lexer": "ipython3",
   "version": "3.8.3"
  },
  "orig_nbformat": 2,
  "interpreter": {
   "hash": "a1d5b9100ccb4936a513a4c2e96581413c43726381ca42ceaddfd68a024f20b1"
  }
 },
 "nbformat": 4,
 "nbformat_minor": 2
}