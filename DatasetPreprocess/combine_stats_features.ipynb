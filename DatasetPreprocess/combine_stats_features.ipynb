{
 "cells": [
  {
   "cell_type": "code",
   "execution_count": 1,
   "source": [
    "import configparser\n",
    "import os\n",
    "import os.path as osp\n",
    "import numpy as np"
   ],
   "outputs": [],
   "metadata": {}
  },
  {
   "cell_type": "code",
   "execution_count": 2,
   "source": [
    "def get_dataset_folder_path(dataset_name: str) -> str:\n",
    "    # Read dataset path from config.ini file\n",
    "    config_path = osp.join(osp.dirname(os.getcwd()), 'config.ini')\n",
    "    parser = configparser.ConfigParser()\n",
    "    parser.read(config_path)\n",
    "    dataset_folder_path = None\n",
    "    if dataset_name == 'AffectiveROAD':\n",
    "        dataset_folder_path = parser['DATA_PATH']['affectiveROAD_dataset_path']\n",
    "    elif dataset_name in ['WESAD_CHEST', 'WESAD_WRIST', 'RESAMPLED_WESAD_CHEST']:\n",
    "        dataset_folder_path = parser['DATA_PATH']['wesad_dataset_path']\n",
    "    elif dataset_name == 'DCU_NVT_EXP1':\n",
    "        dataset_folder_path = parser['DATA_PATH']['dcu_nvt_dataset_path']\n",
    "    return dataset_folder_path"
   ],
   "outputs": [],
   "metadata": {}
  },
  {
   "cell_type": "code",
   "execution_count": 3,
   "source": [
    "def load_stats_features(dataset_name: str, WINDOW_SIZE: int = 60, WINDOW_SHIFT: int = 1):\n",
    "    heart_stats_features = None\n",
    "    eda_stats_features = None\n",
    "    # Initialize dataset folder paths\n",
    "    dataset_folder_path = get_dataset_folder_path(dataset_name)\n",
    "    if dataset_name == 'AffectiveROAD':\n",
    "        # Initialize dataset paths\n",
    "        affectiveROAD_heart_file_path = osp.join(dataset_folder_path, f'AffectiveROAD_heart_stats_feats_{WINDOW_SHIFT}_{WINDOW_SIZE}.npy')\n",
    "        affectiveROAD_eda_file_path = osp.join(dataset_folder_path, f'AffectiveROAD_eda_stats_feats_{WINDOW_SHIFT}_{WINDOW_SIZE}.npy')\n",
    "        heart_stats_features = np.load(affectiveROAD_heart_file_path)\n",
    "        eda_stats_features = np.load(affectiveROAD_eda_file_path)\n",
    "    elif dataset_name == 'WESAD_CHEST':\n",
    "        # Initialize dataset paths\n",
    "        wesad_chest_heart_file_path = osp.join(dataset_folder_path, f'WESAD_CHEST_heart_stats_feats_{WINDOW_SHIFT}_{WINDOW_SIZE}.npy')\n",
    "        wesad_chest_eda_file_path = osp.join(dataset_folder_path, f'WESAD_CHEST_eda_stats_feats_{WINDOW_SHIFT}_{WINDOW_SIZE}.npy')\n",
    "        heart_stats_features = np.load(wesad_chest_heart_file_path)\n",
    "        eda_stats_features = np.load(wesad_chest_eda_file_path)\n",
    "    elif dataset_name == 'WESAD_WRIST':\n",
    "        # Initialize dataset paths\n",
    "        wesad_wrist_heart_file_path = osp.join(dataset_folder_path, f'WESAD_WRIST_heart_stats_feats_{WINDOW_SHIFT}_{WINDOW_SIZE}.npy')\n",
    "        wesad_wrist_eda_file_path = osp.join(dataset_folder_path, f'WESAD_WRIST_eda_stats_feats_{WINDOW_SHIFT}_{WINDOW_SIZE}.npy')\n",
    "        heart_stats_features = np.load(wesad_wrist_heart_file_path)\n",
    "        eda_stats_features = np.load(wesad_wrist_eda_file_path)\n",
    "    return heart_stats_features, eda_stats_features"
   ],
   "outputs": [],
   "metadata": {}
  },
  {
   "cell_type": "code",
   "execution_count": 4,
   "source": [
    "# -- Uncomment the dataset that you wanna load -- # \n",
    "dataset_name = 'AffectiveROAD'\n",
    "dataset_name = 'WESAD_CHEST'\n",
    "dataset_name = 'WESAD_WRIST'"
   ],
   "outputs": [],
   "metadata": {}
  },
  {
   "cell_type": "code",
   "execution_count": 5,
   "source": [
    "WINDOW_SHIFT = 0.25\n",
    "WINDOW_SIZE = 120"
   ],
   "outputs": [],
   "metadata": {}
  },
  {
   "cell_type": "code",
   "execution_count": 6,
   "source": [
    "heart_stats_features, eda_stats_features = load_stats_features(dataset_name, WINDOW_SIZE, WINDOW_SHIFT) # Load dataset\n",
    "heart_stats_features[np.isnan(heart_stats_features)] = 0"
   ],
   "outputs": [],
   "metadata": {}
  },
  {
   "cell_type": "code",
   "execution_count": 7,
   "source": [
    "combined_stats_features = np.concatenate((heart_stats_features, eda_stats_features), axis=1)\n",
    "output_file_path = osp.join(get_dataset_folder_path(dataset_name), f'{dataset_name}_stats_feats_{WINDOW_SHIFT}_{WINDOW_SIZE}.npy')\n",
    "np.save(output_file_path, combined_stats_features)"
   ],
   "outputs": [],
   "metadata": {}
  }
 ],
 "metadata": {
  "orig_nbformat": 4,
  "language_info": {
   "name": "python",
   "version": "3.8.3",
   "mimetype": "text/x-python",
   "codemirror_mode": {
    "name": "ipython",
    "version": 3
   },
   "pygments_lexer": "ipython3",
   "nbconvert_exporter": "python",
   "file_extension": ".py"
  },
  "kernelspec": {
   "name": "python3",
   "display_name": "Python 3.8.3 64-bit ('base': conda)"
  },
  "interpreter": {
   "hash": "a1d5b9100ccb4936a513a4c2e96581413c43726381ca42ceaddfd68a024f20b1"
  }
 },
 "nbformat": 4,
 "nbformat_minor": 2
}