{
 "cells": [
  {
   "cell_type": "code",
   "execution_count": 160,
   "source": [
    "from model import *\n",
    "import torch\n",
    "import torch.nn as nn\n",
    "import torch\n",
    "import torch.optim as optim\n",
    "from torch.autograd import Variable\n",
    "import configparser\n",
    "import os\n",
    "import os.path as osp\n",
    "import numpy as np\n",
    "from sklearn.model_selection import StratifiedKFold, LeaveOneGroupOut\n",
    "from tqdm import tqdm\n",
    "from sklearn.ensemble import RandomForestClassifier\n",
    "from sklearn.preprocessing import StandardScaler, RobustScaler\n",
    "from sklearn.metrics import balanced_accuracy_score\n",
    "from sklearn.svm import SVC\n",
    "from sklearn.neural_network import MLPClassifier\n",
    "from sklearn.neighbors import KNeighborsClassifier"
   ],
   "outputs": [],
   "metadata": {}
  },
  {
   "cell_type": "code",
   "execution_count": 161,
   "source": [
    "def get_dataset_folder_path(dataset_name: str) -> str:\n",
    "    # Read dataset path from config.ini file\n",
    "    config_path = osp.join(os.getcwd(), '..', 'config.ini')\n",
    "    parser = configparser.ConfigParser()\n",
    "    parser.read(config_path)\n",
    "    dataset_folder_path = None\n",
    "    if dataset_name == 'AffectiveROAD':\n",
    "        dataset_folder_path = parser['DATA_PATH']['affectiveROAD_dataset_path']\n",
    "    elif dataset_name in ['WESAD_CHEST', 'WESAD_WRIST', 'RESAMPLED_WESAD_CHEST']:\n",
    "        dataset_folder_path = parser['DATA_PATH']['wesad_dataset_path']\n",
    "    elif dataset_name == 'DCU_NVT_EXP1':\n",
    "        dataset_folder_path = parser['DATA_PATH']['dcu_nvt_dataset_path']\n",
    "    return dataset_folder_path\n",
    "\n",
    "\n",
    "def load_dataset(dataset_name: str):\n",
    "    dataset = None\n",
    "    ground_truth = None\n",
    "    # Initialize dataset folder path\n",
    "    dataset_folder_path = get_dataset_folder_path(dataset_name)\n",
    "    # Initialize dataset file path\n",
    "    dataset_file_path = osp.join(dataset_folder_path, f'{dataset_name}_stats_feats_1_60.npy')\n",
    "    # Initialize ground-truth file path\n",
    "    ground_truth_file_path = osp.join(dataset_folder_path, f'{dataset_name}_ground_truth_1_60.npy')\n",
    "    # Initialize group file path\n",
    "    group_file_path = osp.join(dataset_folder_path, f'{dataset_name}_groups_1_60.npy')\n",
    "\n",
    "    # Load dataset, ground-truth, and groups\n",
    "    dataset = np.load(dataset_file_path) # Load dataset\n",
    "    ground_truth = np.load(ground_truth_file_path) # Load corresponding ground-truth\n",
    "    groups = np.load(group_file_path) # Load corresponding user_id labels\n",
    "\n",
    "    dataset[np.isnan(dataset)] = 0\n",
    "    # Filtering preprocess if dataset name is AffectiveROAD\n",
    "    if dataset_name == 'AffectiveROAD':\n",
    "        indices = np.where(ground_truth >= 0)[0]\n",
    "        dataset = dataset[indices]\n",
    "        groups = groups[indices]\n",
    "        ground_truth = ground_truth[indices]\n",
    "\n",
    "    return dataset, ground_truth, groups  "
   ],
   "outputs": [],
   "metadata": {}
  },
  {
   "cell_type": "code",
   "execution_count": 162,
   "source": [
    "def transform_data(X_train, X_test, scaler_name: str = 'StandardScaler'): # Transform the data using Standard Scaler\n",
    "    scaled_X_train = X_train\n",
    "    scaled_X_test = X_test\n",
    "    BOUNDING = 25\n",
    "    std_scaler = StandardScaler()\n",
    "    std_scaler.fit(X_train[:, BOUNDING:])\n",
    "    scaled_X_train[:, BOUNDING:] = std_scaler.transform(X_train[:, BOUNDING:])\n",
    "    scaled_X_test[:, BOUNDING:] = std_scaler.transform(X_test[:, BOUNDING:])\n",
    "    robust_scaler = RobustScaler()\n",
    "    robust_scaler.fit(X_train[:, :BOUNDING])\n",
    "    scaled_X_train[:, :BOUNDING] = robust_scaler.transform(X_train[:, :BOUNDING])\n",
    "    scaled_X_test[:, :BOUNDING] = robust_scaler.transform(X_test[:, :BOUNDING])\n",
    "    return scaled_X_train, scaled_X_test"
   ],
   "outputs": [],
   "metadata": {}
  },
  {
   "cell_type": "code",
   "execution_count": 163,
   "source": [
    "root = \"/\"\n",
    "BATCH_SIZE = 500\n",
    "N_INP = 60\n",
    "N_OUT = 60\n",
    "N_GEN_EPOCHS = 10000\n",
    "KERNEL_TYPE = \"multiscale\""
   ],
   "outputs": [],
   "metadata": {}
  },
  {
   "cell_type": "code",
   "execution_count": 164,
   "source": [
    "device = torch.device(\"cuda\" if torch.cuda.is_available() else \"cpu\")\n",
    "# device = torch.device('cpu')\n",
    "print(device)"
   ],
   "outputs": [
    {
     "output_type": "stream",
     "name": "stdout",
     "text": [
      "cuda\n"
     ]
    }
   ],
   "metadata": {}
  },
  {
   "cell_type": "code",
   "execution_count": 165,
   "source": [
    "# define the MMDEmbedding\n",
    "# gmmd_net = MMDEmbedding(N_INP, N_OUT).to(device)\n",
    "# try:\n",
    "#   gmmd_net.load_state_dict(torch.load(\"gmmd.pth\"))\n",
    "#   print(\"Model parameters are loaded\")\n",
    "# except:\n",
    "#   pass"
   ],
   "outputs": [],
   "metadata": {}
  },
  {
   "cell_type": "code",
   "execution_count": 166,
   "source": [
    "# gmmd_optimizer = optim.RMSprop(gmmd_net.parameters(), lr=0.004)"
   ],
   "outputs": [],
   "metadata": {}
  },
  {
   "cell_type": "code",
   "execution_count": 167,
   "source": [
    "# def train_one_step(x, samples):\n",
    "#     samples = Variable(samples).to(device)\n",
    "#     gen_samples = gmmd_net(samples)\n",
    "\n",
    "#     loss = MMD(x, gen_samples, KERNEL_TYPE)\n",
    "#     gmmd_optimizer.zero_grad()\n",
    "#     loss.backward()\n",
    "#     gmmd_optimizer.step()\n",
    "\n",
    "#     return loss"
   ],
   "outputs": [],
   "metadata": {}
  },
  {
   "cell_type": "code",
   "execution_count": 168,
   "source": [
    "dataset_name = 'WESAD_WRIST'"
   ],
   "outputs": [],
   "metadata": {}
  },
  {
   "cell_type": "code",
   "execution_count": 169,
   "source": [
    "X, y, groups = load_dataset(dataset_name)"
   ],
   "outputs": [],
   "metadata": {}
  },
  {
   "cell_type": "code",
   "execution_count": 170,
   "source": [
    "logo = LeaveOneGroupOut()\n",
    "test_groups = []\n",
    "balanced_accs = []\n",
    "cv_balanced_acc_scores = []\n",
    "torch.manual_seed(0)\n",
    "np.random.seed(0)\n",
    "\n",
    "# feature_importances = []\n",
    "\n",
    "for train_index, test_index in tqdm(logo.split(X, y, groups)):\n",
    "    print(f\"Training ---- {groups[test_index][0]}\")\n",
    "    X_train, y_train, X_test, y_test = X[train_index], y[train_index], X[test_index], y[test_index] # Get train and test data\n",
    "    # Validate if the test set and train set have two classes\n",
    "    num_classes_test = len(np.unique(y_test))\n",
    "    num_classes_train = len(np.unique(y_train))\n",
    "    if num_classes_test < 2 or num_classes_train < 2: # If one of them does not have enough classes, then ignore it\n",
    "        continue\n",
    "    \n",
    "    n_train_samples = X_train.shape[0]\n",
    "    n_test_samples = X_test.shape[0]\n",
    "    X_train, X_test = transform_data(X_train, X_test, scaler_name = 'StandardScaler') # Feature scaling if possible\n",
    "    # X_train = torch.from_numpy(X_train).to(device)\n",
    "    # X_test = torch.from_numpy(X_test)\n",
    "    gmmd_net = MMDEmbedding(N_INP, N_OUT).to(device)\n",
    "    gmmd_optimizer = optim.Adam(gmmd_net.parameters(), lr=0.004)\n",
    "    iterations = 0\n",
    "    for ep in range(N_GEN_EPOCHS):\n",
    "        avg_loss = 0\n",
    "        # resampling_limit = 300 # From paper\n",
    "        train_indices = np.random.choice(n_train_samples, BATCH_SIZE, replace = False)\n",
    "        test_indices = np.random.choice(n_test_samples, BATCH_SIZE, replace = False)\n",
    "        xx = torch.from_numpy(X_train[train_indices, :]).to(device).float()\n",
    "        yy = torch.from_numpy(X_test[test_indices, :]).to(device).float()\n",
    "        iterations += 1\n",
    "        gen_samples = gmmd_net(yy)\n",
    "\n",
    "        loss = MMD(xx, gen_samples, KERNEL_TYPE)\n",
    "        gmmd_optimizer.zero_grad()\n",
    "        loss.backward()\n",
    "        gmmd_optimizer.step()\n",
    "        if ep % 1000 == 0: \n",
    "            print(f\"GMMD Training: {ep}. epoch completed,  loss: {loss.item()}\")\n",
    "    # Infer\n",
    "    # clf = RandomForestClassifier(n_estimators = 1000, random_state = 0, n_jobs = 8, max_features='sqrt',\n",
    "                                # oob_score=True, bootstrap=True, class_weight = 'balanced')\n",
    "    # clf = SVC(C = 10, random_state = 0, class_weight = 'balanced')\n",
    "    clf = MLPClassifier(random_state = 0, max_iter = 1000, early_stopping=True)\n",
    "    clf.fit(X_train, y_train)\n",
    "    embeded_X_test = gmmd_net(torch.from_numpy(X_test).to(device).float()).cpu().detach().numpy()\n",
    "    y_preds = clf.predict(embeded_X_test)\n",
    "\n",
    "    # Evaluate balanced accuracy on the predicted results of test set\n",
    "    acc = balanced_accuracy_score(y_test, y_preds)\n",
    "    balanced_accs.append(acc)\n",
    "    test_groups.append(groups[test_index][0])\n",
    "    print(f'BA Score: {acc}')\n",
    "results = { 'groups': test_groups, 'balanced_accuracy_score': balanced_accs }"
   ],
   "outputs": [
    {
     "output_type": "stream",
     "name": "stderr",
     "text": [
      "0it [00:00, ?it/s]"
     ]
    },
    {
     "output_type": "stream",
     "name": "stdout",
     "text": [
      "Training ---- S10\n",
      "GMMD Training: 0. epoch completed,  loss: 3.9540963172912598\n",
      "GMMD Training: 1000. epoch completed,  loss: 0.7316492199897766\n",
      "GMMD Training: 2000. epoch completed,  loss: 0.475624680519104\n",
      "GMMD Training: 3000. epoch completed,  loss: 0.46680542826652527\n",
      "GMMD Training: 4000. epoch completed,  loss: 0.3920816481113434\n"
     ]
    },
    {
     "output_type": "stream",
     "name": "stderr",
     "text": [
      "0it [00:22, ?it/s]\n"
     ]
    },
    {
     "output_type": "error",
     "ename": "KeyboardInterrupt",
     "evalue": "",
     "traceback": [
      "\u001b[0;31m---------------------------------------------------------------------------\u001b[0m",
      "\u001b[0;31mKeyboardInterrupt\u001b[0m                         Traceback (most recent call last)",
      "\u001b[0;32m<ipython-input-170-389b35e57ed6>\u001b[0m in \u001b[0;36m<module>\u001b[0;34m\u001b[0m\n\u001b[1;32m     35\u001b[0m         \u001b[0mgen_samples\u001b[0m \u001b[0;34m=\u001b[0m \u001b[0mgmmd_net\u001b[0m\u001b[0;34m(\u001b[0m\u001b[0myy\u001b[0m\u001b[0;34m)\u001b[0m\u001b[0;34m\u001b[0m\u001b[0;34m\u001b[0m\u001b[0m\n\u001b[1;32m     36\u001b[0m \u001b[0;34m\u001b[0m\u001b[0m\n\u001b[0;32m---> 37\u001b[0;31m         \u001b[0mloss\u001b[0m \u001b[0;34m=\u001b[0m \u001b[0mMMD\u001b[0m\u001b[0;34m(\u001b[0m\u001b[0mxx\u001b[0m\u001b[0;34m,\u001b[0m \u001b[0mgen_samples\u001b[0m\u001b[0;34m,\u001b[0m \u001b[0mKERNEL_TYPE\u001b[0m\u001b[0;34m)\u001b[0m\u001b[0;34m\u001b[0m\u001b[0;34m\u001b[0m\u001b[0m\n\u001b[0m\u001b[1;32m     38\u001b[0m         \u001b[0mgmmd_optimizer\u001b[0m\u001b[0;34m.\u001b[0m\u001b[0mzero_grad\u001b[0m\u001b[0;34m(\u001b[0m\u001b[0;34m)\u001b[0m\u001b[0;34m\u001b[0m\u001b[0;34m\u001b[0m\u001b[0m\n\u001b[1;32m     39\u001b[0m         \u001b[0mloss\u001b[0m\u001b[0;34m.\u001b[0m\u001b[0mbackward\u001b[0m\u001b[0;34m(\u001b[0m\u001b[0;34m)\u001b[0m\u001b[0;34m\u001b[0m\u001b[0;34m\u001b[0m\u001b[0m\n",
      "\u001b[0;32m~/PhD_Work/StressDetection/EDA_Stress_Classifier/MMDEmbedding/model.py\u001b[0m in \u001b[0;36mMMD\u001b[0;34m(x, y, kernel)\u001b[0m\n\u001b[1;32m     16\u001b[0m         \u001b[0mkernel\u001b[0m\u001b[0;34m:\u001b[0m \u001b[0mkernel\u001b[0m \u001b[0mtype\u001b[0m \u001b[0msuch\u001b[0m \u001b[0;32mas\u001b[0m \u001b[0;34m\"multiscale\"\u001b[0m \u001b[0;32mor\u001b[0m \u001b[0;34m\"rbf\"\u001b[0m\u001b[0;34m\u001b[0m\u001b[0;34m\u001b[0m\u001b[0m\n\u001b[1;32m     17\u001b[0m     \"\"\"\n\u001b[0;32m---> 18\u001b[0;31m     \u001b[0mxx\u001b[0m\u001b[0;34m,\u001b[0m \u001b[0myy\u001b[0m\u001b[0;34m,\u001b[0m \u001b[0mzz\u001b[0m \u001b[0;34m=\u001b[0m \u001b[0mtorch\u001b[0m\u001b[0;34m.\u001b[0m\u001b[0mmm\u001b[0m\u001b[0;34m(\u001b[0m\u001b[0mx\u001b[0m\u001b[0;34m,\u001b[0m \u001b[0mx\u001b[0m\u001b[0;34m.\u001b[0m\u001b[0mt\u001b[0m\u001b[0;34m(\u001b[0m\u001b[0;34m)\u001b[0m\u001b[0;34m)\u001b[0m\u001b[0;34m,\u001b[0m \u001b[0mtorch\u001b[0m\u001b[0;34m.\u001b[0m\u001b[0mmm\u001b[0m\u001b[0;34m(\u001b[0m\u001b[0my\u001b[0m\u001b[0;34m,\u001b[0m \u001b[0my\u001b[0m\u001b[0;34m.\u001b[0m\u001b[0mt\u001b[0m\u001b[0;34m(\u001b[0m\u001b[0;34m)\u001b[0m\u001b[0;34m)\u001b[0m\u001b[0;34m,\u001b[0m \u001b[0mtorch\u001b[0m\u001b[0;34m.\u001b[0m\u001b[0mmm\u001b[0m\u001b[0;34m(\u001b[0m\u001b[0mx\u001b[0m\u001b[0;34m,\u001b[0m \u001b[0my\u001b[0m\u001b[0;34m.\u001b[0m\u001b[0mt\u001b[0m\u001b[0;34m(\u001b[0m\u001b[0;34m)\u001b[0m\u001b[0;34m)\u001b[0m\u001b[0;34m\u001b[0m\u001b[0;34m\u001b[0m\u001b[0m\n\u001b[0m\u001b[1;32m     19\u001b[0m     \u001b[0mrx\u001b[0m \u001b[0;34m=\u001b[0m \u001b[0;34m(\u001b[0m\u001b[0mxx\u001b[0m\u001b[0;34m.\u001b[0m\u001b[0mdiag\u001b[0m\u001b[0;34m(\u001b[0m\u001b[0;34m)\u001b[0m\u001b[0;34m.\u001b[0m\u001b[0munsqueeze\u001b[0m\u001b[0;34m(\u001b[0m\u001b[0;36m0\u001b[0m\u001b[0;34m)\u001b[0m\u001b[0;34m.\u001b[0m\u001b[0mexpand_as\u001b[0m\u001b[0;34m(\u001b[0m\u001b[0mxx\u001b[0m\u001b[0;34m)\u001b[0m\u001b[0;34m)\u001b[0m\u001b[0;34m\u001b[0m\u001b[0;34m\u001b[0m\u001b[0m\n\u001b[1;32m     20\u001b[0m     \u001b[0mry\u001b[0m \u001b[0;34m=\u001b[0m \u001b[0;34m(\u001b[0m\u001b[0myy\u001b[0m\u001b[0;34m.\u001b[0m\u001b[0mdiag\u001b[0m\u001b[0;34m(\u001b[0m\u001b[0;34m)\u001b[0m\u001b[0;34m.\u001b[0m\u001b[0munsqueeze\u001b[0m\u001b[0;34m(\u001b[0m\u001b[0;36m0\u001b[0m\u001b[0;34m)\u001b[0m\u001b[0;34m.\u001b[0m\u001b[0mexpand_as\u001b[0m\u001b[0;34m(\u001b[0m\u001b[0myy\u001b[0m\u001b[0;34m)\u001b[0m\u001b[0;34m)\u001b[0m\u001b[0;34m\u001b[0m\u001b[0;34m\u001b[0m\u001b[0m\n",
      "\u001b[0;31mKeyboardInterrupt\u001b[0m: "
     ]
    }
   ],
   "metadata": {}
  },
  {
   "cell_type": "code",
   "execution_count": null,
   "source": [],
   "outputs": [],
   "metadata": {}
  }
 ],
 "metadata": {
  "orig_nbformat": 4,
  "language_info": {
   "name": "python",
   "version": "3.8.3",
   "mimetype": "text/x-python",
   "codemirror_mode": {
    "name": "ipython",
    "version": 3
   },
   "pygments_lexer": "ipython3",
   "nbconvert_exporter": "python",
   "file_extension": ".py"
  },
  "kernelspec": {
   "name": "python3",
   "display_name": "Python 3.8.3 64-bit ('base': conda)"
  },
  "interpreter": {
   "hash": "a1d5b9100ccb4936a513a4c2e96581413c43726381ca42ceaddfd68a024f20b1"
  }
 },
 "nbformat": 4,
 "nbformat_minor": 2
}